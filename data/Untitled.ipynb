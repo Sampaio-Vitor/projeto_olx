{
 "cells": [
  {
   "cell_type": "code",
   "execution_count": 16,
   "id": "809e8b99",
   "metadata": {},
   "outputs": [],
   "source": [
    "import pandas as pd"
   ]
  },
  {
   "cell_type": "code",
   "execution_count": 17,
   "id": "18075d84",
   "metadata": {},
   "outputs": [],
   "source": [
    "data= pd.read_csv(\"dados_detalhados_olx.csv\")"
   ]
  },
  {
   "cell_type": "code",
   "execution_count": 23,
   "id": "c38e0f12",
   "metadata": {},
   "outputs": [
    {
     "name": "stdout",
     "output_type": "stream",
     "text": [
      "<class 'pandas.core.frame.DataFrame'>\n",
      "RangeIndex: 157 entries, 0 to 156\n",
      "Data columns (total 15 columns):\n",
      " #   Column             Non-Null Count  Dtype \n",
      "---  ------             --------------  ----- \n",
      " 0   TITLE              157 non-null    object\n",
      " 1   LINK               157 non-null    object\n",
      " 2   DATE_SCRAPE        157 non-null    object\n",
      " 3   CEP                157 non-null    int64 \n",
      " 4   CITY               157 non-null    object\n",
      " 5   NEIGHBORHOOD       157 non-null    object\n",
      " 6   CONDO              157 non-null    object\n",
      " 7   TAX                157 non-null    object\n",
      " 8   AREA               157 non-null    object\n",
      " 9   ROOMS_NO           157 non-null    object\n",
      " 10  BATH_NO            157 non-null    object\n",
      " 11  PARKING_SPOTS      156 non-null    object\n",
      " 12  APARTMENT_DETAILS  112 non-null    object\n",
      " 13  PRICE              157 non-null    int64 \n",
      " 14  REGION             157 non-null    object\n",
      "dtypes: int64(2), object(13)\n",
      "memory usage: 18.5+ KB\n"
     ]
    }
   ],
   "source": [
    "data.info()"
   ]
  },
  {
   "cell_type": "code",
   "execution_count": 20,
   "id": "710ffc58",
   "metadata": {},
   "outputs": [
    {
     "name": "stdout",
     "output_type": "stream",
     "text": [
      "['R$ 396' 'R$ 0' 'R$ 100' 'R$ 36' 'R$ 34' 'R$ 235' 'R$ 1' 'R$ 110' 'R$ 91'\n",
      " 'R$ 141' 'R$ 125' 'R$ 152' 'R$ 10' 'R$ 922' 'R$ 1.870' 'R$ 117' 'R$ 90'\n",
      " 'R$ 89' 'R$ 75' 'R$ 1.512' 'R$ 1.213' 'R$ 82' 'R$ 140' 'R$ 886' 'R$ 124'\n",
      " 'R$ 264' 'R$ 460' 'R$ 475' 'R$ 3.600' 'R$ 240' 'R$ 173' 'R$ 748' 'R$ 640'\n",
      " 'R$ 2.747' 'R$ 5.100' 'R$ 8.700' 'R$ 4.800' 'R$ 2.117' 'R$ 2.351'\n",
      " 'R$ 12.000' 'R$ 4.000' 'R$ 545' 'R$ 4.400' 'R$ 1.024' 'R$ 1.200'\n",
      " 'R$ 15.000' 'R$ 320' 'R$ 200' 'R$ 3.961' 'R$ 732' 'R$ 3.260' 'R$ 121'\n",
      " 'R$ 190' 'R$ 650' 'R$ 974' 'R$ 750' 'R$ 700' 'R$ 295' 'R$ 394' 'R$ 525'\n",
      " 'R$ 193' 'R$ 309' 'R$ 15.120' 'R$ 6.300' 'R$ 4.038' 'R$ 795' 'R$ 2.770'\n",
      " 'R$ 7.420' 'R$ 5.692' 'R$ 2.086' 'R$ 6.472' 'R$ 2.932' 'R$ 343' 'R$ 132'\n",
      " '1' 'R$ 103' 'R$ 377' 'R$ 176' 'R$ 476' 'R$ 2.020' '49m²' '44m²' 'R$ 99'\n",
      " 'R$ 478' 'R$ 161' 'R$ 3.404' 'R$ 150' 'R$ 80' 'R$ 1.400' 'R$ 84' '47m²'\n",
      " 'R$ 1.962' '73m²' 'R$ 919' 'R$ 260' 'R$ 225' 'R$ 127' 'R$ 2.608' 'R$ 196'\n",
      " 'R$ 4.159' 'R$ 3.400' 'R$ 3.114' 'R$ 120']\n"
     ]
    }
   ],
   "source": [
    "unique_condo_types = data['TAX'].unique()\n",
    "print(unique_condo_types)\n",
    "\n"
   ]
  },
  {
   "cell_type": "code",
   "execution_count": null,
   "id": "d6b48f93",
   "metadata": {},
   "outputs": [],
   "source": []
  }
 ],
 "metadata": {
  "kernelspec": {
   "display_name": "Python 3 (ipykernel)",
   "language": "python",
   "name": "python3"
  },
  "language_info": {
   "codemirror_mode": {
    "name": "ipython",
    "version": 3
   },
   "file_extension": ".py",
   "mimetype": "text/x-python",
   "name": "python",
   "nbconvert_exporter": "python",
   "pygments_lexer": "ipython3",
   "version": "3.9.13"
  }
 },
 "nbformat": 4,
 "nbformat_minor": 5
}
