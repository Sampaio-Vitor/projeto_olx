{
 "cells": [
  {
   "cell_type": "code",
   "execution_count": 8,
   "id": "809e8b99",
   "metadata": {},
   "outputs": [],
   "source": [
    "import pandas as pd"
   ]
  },
  {
   "cell_type": "code",
   "execution_count": 7,
   "id": "4bfd8a0c",
   "metadata": {},
   "outputs": [
    {
     "ename": "FileNotFoundError",
     "evalue": "[Errno 2] No such file or directory: 'dados_detalhados_olx.csv'",
     "output_type": "error",
     "traceback": [
      "\u001b[1;31m---------------------------------------------------------------------------\u001b[0m",
      "\u001b[1;31mFileNotFoundError\u001b[0m                         Traceback (most recent call last)",
      "\u001b[1;32m~\\AppData\\Local\\Temp\\ipykernel_17200\\2356588600.py\u001b[0m in \u001b[0;36m<module>\u001b[1;34m\u001b[0m\n\u001b[1;32m----> 1\u001b[1;33m \u001b[0mdf_haha\u001b[0m \u001b[1;33m=\u001b[0m \u001b[0mpd\u001b[0m\u001b[1;33m.\u001b[0m\u001b[0mread_csv\u001b[0m\u001b[1;33m(\u001b[0m\u001b[1;34m\"dados_detalhados_olx.csv\"\u001b[0m\u001b[1;33m)\u001b[0m\u001b[1;33m\u001b[0m\u001b[1;33m\u001b[0m\u001b[0m\n\u001b[0m",
      "\u001b[1;32mc:\\Users\\vitor\\anaconda3\\lib\\site-packages\\pandas\\util\\_decorators.py\u001b[0m in \u001b[0;36mwrapper\u001b[1;34m(*args, **kwargs)\u001b[0m\n\u001b[0;32m    309\u001b[0m                     \u001b[0mstacklevel\u001b[0m\u001b[1;33m=\u001b[0m\u001b[0mstacklevel\u001b[0m\u001b[1;33m,\u001b[0m\u001b[1;33m\u001b[0m\u001b[1;33m\u001b[0m\u001b[0m\n\u001b[0;32m    310\u001b[0m                 )\n\u001b[1;32m--> 311\u001b[1;33m             \u001b[1;32mreturn\u001b[0m \u001b[0mfunc\u001b[0m\u001b[1;33m(\u001b[0m\u001b[1;33m*\u001b[0m\u001b[0margs\u001b[0m\u001b[1;33m,\u001b[0m \u001b[1;33m**\u001b[0m\u001b[0mkwargs\u001b[0m\u001b[1;33m)\u001b[0m\u001b[1;33m\u001b[0m\u001b[1;33m\u001b[0m\u001b[0m\n\u001b[0m\u001b[0;32m    312\u001b[0m \u001b[1;33m\u001b[0m\u001b[0m\n\u001b[0;32m    313\u001b[0m         \u001b[1;32mreturn\u001b[0m \u001b[0mwrapper\u001b[0m\u001b[1;33m\u001b[0m\u001b[1;33m\u001b[0m\u001b[0m\n",
      "\u001b[1;32mc:\\Users\\vitor\\anaconda3\\lib\\site-packages\\pandas\\io\\parsers\\readers.py\u001b[0m in \u001b[0;36mread_csv\u001b[1;34m(filepath_or_buffer, sep, delimiter, header, names, index_col, usecols, squeeze, prefix, mangle_dupe_cols, dtype, engine, converters, true_values, false_values, skipinitialspace, skiprows, skipfooter, nrows, na_values, keep_default_na, na_filter, verbose, skip_blank_lines, parse_dates, infer_datetime_format, keep_date_col, date_parser, dayfirst, cache_dates, iterator, chunksize, compression, thousands, decimal, lineterminator, quotechar, quoting, doublequote, escapechar, comment, encoding, encoding_errors, dialect, error_bad_lines, warn_bad_lines, on_bad_lines, delim_whitespace, low_memory, memory_map, float_precision, storage_options)\u001b[0m\n\u001b[0;32m    676\u001b[0m     \u001b[0mkwds\u001b[0m\u001b[1;33m.\u001b[0m\u001b[0mupdate\u001b[0m\u001b[1;33m(\u001b[0m\u001b[0mkwds_defaults\u001b[0m\u001b[1;33m)\u001b[0m\u001b[1;33m\u001b[0m\u001b[1;33m\u001b[0m\u001b[0m\n\u001b[0;32m    677\u001b[0m \u001b[1;33m\u001b[0m\u001b[0m\n\u001b[1;32m--> 678\u001b[1;33m     \u001b[1;32mreturn\u001b[0m \u001b[0m_read\u001b[0m\u001b[1;33m(\u001b[0m\u001b[0mfilepath_or_buffer\u001b[0m\u001b[1;33m,\u001b[0m \u001b[0mkwds\u001b[0m\u001b[1;33m)\u001b[0m\u001b[1;33m\u001b[0m\u001b[1;33m\u001b[0m\u001b[0m\n\u001b[0m\u001b[0;32m    679\u001b[0m \u001b[1;33m\u001b[0m\u001b[0m\n\u001b[0;32m    680\u001b[0m \u001b[1;33m\u001b[0m\u001b[0m\n",
      "\u001b[1;32mc:\\Users\\vitor\\anaconda3\\lib\\site-packages\\pandas\\io\\parsers\\readers.py\u001b[0m in \u001b[0;36m_read\u001b[1;34m(filepath_or_buffer, kwds)\u001b[0m\n\u001b[0;32m    573\u001b[0m \u001b[1;33m\u001b[0m\u001b[0m\n\u001b[0;32m    574\u001b[0m     \u001b[1;31m# Create the parser.\u001b[0m\u001b[1;33m\u001b[0m\u001b[1;33m\u001b[0m\u001b[0m\n\u001b[1;32m--> 575\u001b[1;33m     \u001b[0mparser\u001b[0m \u001b[1;33m=\u001b[0m \u001b[0mTextFileReader\u001b[0m\u001b[1;33m(\u001b[0m\u001b[0mfilepath_or_buffer\u001b[0m\u001b[1;33m,\u001b[0m \u001b[1;33m**\u001b[0m\u001b[0mkwds\u001b[0m\u001b[1;33m)\u001b[0m\u001b[1;33m\u001b[0m\u001b[1;33m\u001b[0m\u001b[0m\n\u001b[0m\u001b[0;32m    576\u001b[0m \u001b[1;33m\u001b[0m\u001b[0m\n\u001b[0;32m    577\u001b[0m     \u001b[1;32mif\u001b[0m \u001b[0mchunksize\u001b[0m \u001b[1;32mor\u001b[0m \u001b[0miterator\u001b[0m\u001b[1;33m:\u001b[0m\u001b[1;33m\u001b[0m\u001b[1;33m\u001b[0m\u001b[0m\n",
      "\u001b[1;32mc:\\Users\\vitor\\anaconda3\\lib\\site-packages\\pandas\\io\\parsers\\readers.py\u001b[0m in \u001b[0;36m__init__\u001b[1;34m(self, f, engine, **kwds)\u001b[0m\n\u001b[0;32m    930\u001b[0m \u001b[1;33m\u001b[0m\u001b[0m\n\u001b[0;32m    931\u001b[0m         \u001b[0mself\u001b[0m\u001b[1;33m.\u001b[0m\u001b[0mhandles\u001b[0m\u001b[1;33m:\u001b[0m \u001b[0mIOHandles\u001b[0m \u001b[1;33m|\u001b[0m \u001b[1;32mNone\u001b[0m \u001b[1;33m=\u001b[0m \u001b[1;32mNone\u001b[0m\u001b[1;33m\u001b[0m\u001b[1;33m\u001b[0m\u001b[0m\n\u001b[1;32m--> 932\u001b[1;33m         \u001b[0mself\u001b[0m\u001b[1;33m.\u001b[0m\u001b[0m_engine\u001b[0m \u001b[1;33m=\u001b[0m \u001b[0mself\u001b[0m\u001b[1;33m.\u001b[0m\u001b[0m_make_engine\u001b[0m\u001b[1;33m(\u001b[0m\u001b[0mf\u001b[0m\u001b[1;33m,\u001b[0m \u001b[0mself\u001b[0m\u001b[1;33m.\u001b[0m\u001b[0mengine\u001b[0m\u001b[1;33m)\u001b[0m\u001b[1;33m\u001b[0m\u001b[1;33m\u001b[0m\u001b[0m\n\u001b[0m\u001b[0;32m    933\u001b[0m \u001b[1;33m\u001b[0m\u001b[0m\n\u001b[0;32m    934\u001b[0m     \u001b[1;32mdef\u001b[0m \u001b[0mclose\u001b[0m\u001b[1;33m(\u001b[0m\u001b[0mself\u001b[0m\u001b[1;33m)\u001b[0m\u001b[1;33m:\u001b[0m\u001b[1;33m\u001b[0m\u001b[1;33m\u001b[0m\u001b[0m\n",
      "\u001b[1;32mc:\\Users\\vitor\\anaconda3\\lib\\site-packages\\pandas\\io\\parsers\\readers.py\u001b[0m in \u001b[0;36m_make_engine\u001b[1;34m(self, f, engine)\u001b[0m\n\u001b[0;32m   1214\u001b[0m             \u001b[1;31m# \"Union[str, PathLike[str], ReadCsvBuffer[bytes], ReadCsvBuffer[str]]\"\u001b[0m\u001b[1;33m\u001b[0m\u001b[1;33m\u001b[0m\u001b[0m\n\u001b[0;32m   1215\u001b[0m             \u001b[1;31m# , \"str\", \"bool\", \"Any\", \"Any\", \"Any\", \"Any\", \"Any\"\u001b[0m\u001b[1;33m\u001b[0m\u001b[1;33m\u001b[0m\u001b[0m\n\u001b[1;32m-> 1216\u001b[1;33m             self.handles = get_handle(  # type: ignore[call-overload]\n\u001b[0m\u001b[0;32m   1217\u001b[0m                 \u001b[0mf\u001b[0m\u001b[1;33m,\u001b[0m\u001b[1;33m\u001b[0m\u001b[1;33m\u001b[0m\u001b[0m\n\u001b[0;32m   1218\u001b[0m                 \u001b[0mmode\u001b[0m\u001b[1;33m,\u001b[0m\u001b[1;33m\u001b[0m\u001b[1;33m\u001b[0m\u001b[0m\n",
      "\u001b[1;32mc:\\Users\\vitor\\anaconda3\\lib\\site-packages\\pandas\\io\\common.py\u001b[0m in \u001b[0;36mget_handle\u001b[1;34m(path_or_buf, mode, encoding, compression, memory_map, is_text, errors, storage_options)\u001b[0m\n\u001b[0;32m    784\u001b[0m         \u001b[1;32mif\u001b[0m \u001b[0mioargs\u001b[0m\u001b[1;33m.\u001b[0m\u001b[0mencoding\u001b[0m \u001b[1;32mand\u001b[0m \u001b[1;34m\"b\"\u001b[0m \u001b[1;32mnot\u001b[0m \u001b[1;32min\u001b[0m \u001b[0mioargs\u001b[0m\u001b[1;33m.\u001b[0m\u001b[0mmode\u001b[0m\u001b[1;33m:\u001b[0m\u001b[1;33m\u001b[0m\u001b[1;33m\u001b[0m\u001b[0m\n\u001b[0;32m    785\u001b[0m             \u001b[1;31m# Encoding\u001b[0m\u001b[1;33m\u001b[0m\u001b[1;33m\u001b[0m\u001b[0m\n\u001b[1;32m--> 786\u001b[1;33m             handle = open(\n\u001b[0m\u001b[0;32m    787\u001b[0m                 \u001b[0mhandle\u001b[0m\u001b[1;33m,\u001b[0m\u001b[1;33m\u001b[0m\u001b[1;33m\u001b[0m\u001b[0m\n\u001b[0;32m    788\u001b[0m                 \u001b[0mioargs\u001b[0m\u001b[1;33m.\u001b[0m\u001b[0mmode\u001b[0m\u001b[1;33m,\u001b[0m\u001b[1;33m\u001b[0m\u001b[1;33m\u001b[0m\u001b[0m\n",
      "\u001b[1;31mFileNotFoundError\u001b[0m: [Errno 2] No such file or directory: 'dados_detalhados_olx.csv'"
     ]
    }
   ],
   "source": [
    "df_haha = pd.read_csv(\"dados_detalhados_olx.csv\")"
   ]
  },
  {
   "cell_type": "code",
   "execution_count": 3,
   "id": "b00f8db3",
   "metadata": {},
   "outputs": [
    {
     "data": {
      "text/html": [
       "<div>\n",
       "<style scoped>\n",
       "    .dataframe tbody tr th:only-of-type {\n",
       "        vertical-align: middle;\n",
       "    }\n",
       "\n",
       "    .dataframe tbody tr th {\n",
       "        vertical-align: top;\n",
       "    }\n",
       "\n",
       "    .dataframe thead th {\n",
       "        text-align: right;\n",
       "    }\n",
       "</style>\n",
       "<table border=\"1\" class=\"dataframe\">\n",
       "  <thead>\n",
       "    <tr style=\"text-align: right;\">\n",
       "      <th></th>\n",
       "      <th>LINK</th>\n",
       "      <th>TITLE</th>\n",
       "      <th>PRICE</th>\n",
       "      <th>CEP</th>\n",
       "      <th>NEIGHBORHOOD</th>\n",
       "      <th>CONDO</th>\n",
       "      <th>TAX</th>\n",
       "      <th>AREA</th>\n",
       "      <th>ROOMS_NO</th>\n",
       "      <th>BATH_NO</th>\n",
       "      <th>PARKING_SPOTS</th>\n",
       "      <th>APARTMENT_DETAILS</th>\n",
       "      <th>REGION</th>\n",
       "      <th>CITY</th>\n",
       "      <th>DATE_SCRAPE</th>\n",
       "    </tr>\n",
       "  </thead>\n",
       "  <tbody>\n",
       "    <tr>\n",
       "      <th>177</th>\n",
       "      <td>https://mg.olx.com.br/belo-horizonte-e-regiao/...</td>\n",
       "      <td>['Apartamento à venda - Flávio De Oliveira, 2 ...</td>\n",
       "      <td>1690000</td>\n",
       "      <td>31275020</td>\n",
       "      <td>São José</td>\n",
       "      <td>R$ 2.000</td>\n",
       "      <td>R$ 605</td>\n",
       "      <td>148m²</td>\n",
       "      <td>4</td>\n",
       "      <td>4</td>\n",
       "      <td>3</td>\n",
       "      <td>Academia, Ar condicionado, Área de serviço, Ch...</td>\n",
       "      <td>pampulha</td>\n",
       "      <td>Belo Horizonte</td>\n",
       "      <td>2023-08-21 17:47:05.985209</td>\n",
       "    </tr>\n",
       "    <tr>\n",
       "      <th>138</th>\n",
       "      <td>https://mg.olx.com.br/belo-horizonte-e-regiao/...</td>\n",
       "      <td>['Apartamento à venda - Flávio De Oliveira, 2 ...</td>\n",
       "      <td>690000</td>\n",
       "      <td>30431031</td>\n",
       "      <td>Alto Barroca</td>\n",
       "      <td>R$ 300</td>\n",
       "      <td>R$ 0</td>\n",
       "      <td>77m²</td>\n",
       "      <td>2</td>\n",
       "      <td>1</td>\n",
       "      <td>1</td>\n",
       "      <td>Área de serviço</td>\n",
       "      <td>zona oeste</td>\n",
       "      <td>Belo Horizonte</td>\n",
       "      <td>2023-08-21 17:43:10.262989</td>\n",
       "    </tr>\n",
       "    <tr>\n",
       "      <th>189</th>\n",
       "      <td>https://mg.olx.com.br/belo-horizonte-e-regiao/...</td>\n",
       "      <td>['Apartamento à venda - Flávio De Oliveira, 2 ...</td>\n",
       "      <td>290000</td>\n",
       "      <td>30140903</td>\n",
       "      <td>Santo Agostinho</td>\n",
       "      <td>R$ 503</td>\n",
       "      <td>R$ 77</td>\n",
       "      <td>68m²</td>\n",
       "      <td>1</td>\n",
       "      <td>1</td>\n",
       "      <td>NaN</td>\n",
       "      <td>NaN</td>\n",
       "      <td>zona_centro_sul</td>\n",
       "      <td>Belo Horizonte</td>\n",
       "      <td>2023-08-21 17:49:11.674738</td>\n",
       "    </tr>\n",
       "  </tbody>\n",
       "</table>\n",
       "</div>"
      ],
      "text/plain": [
       "                                                  LINK  \\\n",
       "177  https://mg.olx.com.br/belo-horizonte-e-regiao/...   \n",
       "138  https://mg.olx.com.br/belo-horizonte-e-regiao/...   \n",
       "189  https://mg.olx.com.br/belo-horizonte-e-regiao/...   \n",
       "\n",
       "                                                 TITLE    PRICE       CEP  \\\n",
       "177  ['Apartamento à venda - Flávio De Oliveira, 2 ...  1690000  31275020   \n",
       "138  ['Apartamento à venda - Flávio De Oliveira, 2 ...   690000  30431031   \n",
       "189  ['Apartamento à venda - Flávio De Oliveira, 2 ...   290000  30140903   \n",
       "\n",
       "        NEIGHBORHOOD     CONDO     TAX   AREA ROOMS_NO BATH_NO PARKING_SPOTS  \\\n",
       "177         São José  R$ 2.000  R$ 605  148m²        4       4             3   \n",
       "138     Alto Barroca    R$ 300    R$ 0   77m²        2       1             1   \n",
       "189  Santo Agostinho    R$ 503   R$ 77   68m²        1       1           NaN   \n",
       "\n",
       "                                     APARTMENT_DETAILS           REGION  \\\n",
       "177  Academia, Ar condicionado, Área de serviço, Ch...         pampulha   \n",
       "138                                    Área de serviço       zona oeste   \n",
       "189                                                NaN  zona_centro_sul   \n",
       "\n",
       "               CITY                 DATE_SCRAPE  \n",
       "177  Belo Horizonte  2023-08-21 17:47:05.985209  \n",
       "138  Belo Horizonte  2023-08-21 17:43:10.262989  \n",
       "189  Belo Horizonte  2023-08-21 17:49:11.674738  "
      ]
     },
     "execution_count": 3,
     "metadata": {},
     "output_type": "execute_result"
    }
   ],
   "source": [
    "df_haha.sample(3)"
   ]
  },
  {
   "cell_type": "code",
   "execution_count": 4,
   "id": "5d0e7fa5",
   "metadata": {},
   "outputs": [
    {
     "name": "stdout",
     "output_type": "stream",
     "text": [
      "zona_centro_sul    71\n",
      "centro sul         62\n",
      "pampulha           59\n",
      "zona_noroeste      32\n",
      "zona_oeste         28\n",
      "zona_nordeste      24\n",
      "zona oeste         20\n",
      "zona_leste         16\n",
      "zona leste         12\n",
      "barreiro            7\n",
      "zona noroeste       7\n",
      "zona nordeste       6\n",
      "zona_norte          6\n",
      "venda nova          5\n",
      "venda_nova          5\n",
      "zona norte          3\n",
      "Name: REGION, dtype: int64\n"
     ]
    }
   ],
   "source": [
    "region_counts = df_haha['REGION'].value_counts()\n",
    "print(region_counts)"
   ]
  },
  {
   "cell_type": "code",
   "execution_count": 26,
   "id": "cc2457b7",
   "metadata": {},
   "outputs": [],
   "source": [
    "df = pd.read_csv(\"new_links_olx.csv\")\n"
   ]
  },
  {
   "cell_type": "code",
   "execution_count": 27,
   "id": "5910169a",
   "metadata": {},
   "outputs": [
    {
     "data": {
      "text/html": [
       "<div>\n",
       "<style scoped>\n",
       "    .dataframe tbody tr th:only-of-type {\n",
       "        vertical-align: middle;\n",
       "    }\n",
       "\n",
       "    .dataframe tbody tr th {\n",
       "        vertical-align: top;\n",
       "    }\n",
       "\n",
       "    .dataframe thead th {\n",
       "        text-align: right;\n",
       "    }\n",
       "</style>\n",
       "<table border=\"1\" class=\"dataframe\">\n",
       "  <thead>\n",
       "    <tr style=\"text-align: right;\">\n",
       "      <th></th>\n",
       "      <th>link</th>\n",
       "      <th>date</th>\n",
       "      <th>is_new</th>\n",
       "      <th>REGION</th>\n",
       "    </tr>\n",
       "  </thead>\n",
       "  <tbody>\n",
       "    <tr>\n",
       "      <th>37</th>\n",
       "      <td>https://mg.olx.com.br/belo-horizonte-e-regiao/...</td>\n",
       "      <td>2023-08-23 09:43:30.103369</td>\n",
       "      <td>1</td>\n",
       "      <td>venda_nova</td>\n",
       "    </tr>\n",
       "    <tr>\n",
       "      <th>15</th>\n",
       "      <td>https://mg.olx.com.br/belo-horizonte-e-regiao/...</td>\n",
       "      <td>2023-08-23 09:43:24.890932</td>\n",
       "      <td>1</td>\n",
       "      <td>pampulha</td>\n",
       "    </tr>\n",
       "    <tr>\n",
       "      <th>101</th>\n",
       "      <td>https://mg.olx.com.br/belo-horizonte-e-regiao/...</td>\n",
       "      <td>2023-08-23 09:43:51.056467</td>\n",
       "      <td>1</td>\n",
       "      <td>zona_noroeste</td>\n",
       "    </tr>\n",
       "    <tr>\n",
       "      <th>50</th>\n",
       "      <td>https://mg.olx.com.br/belo-horizonte-e-regiao/...</td>\n",
       "      <td>2023-08-23 09:43:36.628197</td>\n",
       "      <td>1</td>\n",
       "      <td>zona_centro_sul</td>\n",
       "    </tr>\n",
       "    <tr>\n",
       "      <th>63</th>\n",
       "      <td>https://mg.olx.com.br/belo-horizonte-e-regiao/...</td>\n",
       "      <td>2023-08-23 09:43:41.555655</td>\n",
       "      <td>1</td>\n",
       "      <td>zona_leste</td>\n",
       "    </tr>\n",
       "  </tbody>\n",
       "</table>\n",
       "</div>"
      ],
      "text/plain": [
       "                                                  link  \\\n",
       "37   https://mg.olx.com.br/belo-horizonte-e-regiao/...   \n",
       "15   https://mg.olx.com.br/belo-horizonte-e-regiao/...   \n",
       "101  https://mg.olx.com.br/belo-horizonte-e-regiao/...   \n",
       "50   https://mg.olx.com.br/belo-horizonte-e-regiao/...   \n",
       "63   https://mg.olx.com.br/belo-horizonte-e-regiao/...   \n",
       "\n",
       "                           date  is_new           REGION  \n",
       "37   2023-08-23 09:43:30.103369       1       venda_nova  \n",
       "15   2023-08-23 09:43:24.890932       1         pampulha  \n",
       "101  2023-08-23 09:43:51.056467       1    zona_noroeste  \n",
       "50   2023-08-23 09:43:36.628197       1  zona_centro_sul  \n",
       "63   2023-08-23 09:43:41.555655       1       zona_leste  "
      ]
     },
     "execution_count": 27,
     "metadata": {},
     "output_type": "execute_result"
    }
   ],
   "source": [
    "df.sample(5)"
   ]
  },
  {
   "cell_type": "code",
   "execution_count": 28,
   "id": "8df1c494",
   "metadata": {},
   "outputs": [
    {
     "name": "stdout",
     "output_type": "stream",
     "text": [
      "barreiro           15\n",
      "pampulha           15\n",
      "venda_nova         15\n",
      "zona_centro_sul    15\n",
      "zona_leste         15\n",
      "zona_nordeste      15\n",
      "zona_noroeste      15\n",
      "zona_norte         15\n",
      "zona_oeste         15\n",
      "Name: REGION, dtype: int64\n"
     ]
    }
   ],
   "source": [
    "region_counts = df['REGION'].value_counts()\n",
    "print(region_counts)"
   ]
  },
  {
   "cell_type": "code",
   "execution_count": 24,
   "id": "7168560b",
   "metadata": {},
   "outputs": [],
   "source": [
    "import pandas as pd\n",
    "\n",
    "# Read the CSV file into a DataFrame\n",
    "df = pd.read_csv(\"new_links_olx.csv\")\n",
    "\n",
    "# Group the data by the 'REGION' column\n",
    "grouped = df.groupby('REGION')\n",
    "\n",
    "# Initialize an empty DataFrame to store the filtered results\n",
    "filtered_df = pd.DataFrame()\n",
    "\n",
    "# Iterate through each group, selecting the first 50 entries from each\n",
    "for _, group_data in grouped:\n",
    "    filtered_group = group_data.head(5)\n",
    "    filtered_df = pd.concat([filtered_df, filtered_group])\n",
    "\n",
    "# Save the filtered DataFrame to a new CSV file\n",
    "filtered_df.to_csv(\"new_links_olx.csv\", index=False)\n"
   ]
  },
  {
   "cell_type": "code",
   "execution_count": 29,
   "id": "3ee96f8c",
   "metadata": {},
   "outputs": [
    {
     "data": {
      "text/plain": [
       "135"
      ]
     },
     "execution_count": 29,
     "metadata": {},
     "output_type": "execute_result"
    }
   ],
   "source": [
    "len(df)"
   ]
  },
  {
   "cell_type": "code",
   "execution_count": null,
   "id": "239688cc",
   "metadata": {},
   "outputs": [],
   "source": []
  }
 ],
 "metadata": {
  "kernelspec": {
   "display_name": "Python 3 (ipykernel)",
   "language": "python",
   "name": "python3"
  },
  "language_info": {
   "codemirror_mode": {
    "name": "ipython",
    "version": 3
   },
   "file_extension": ".py",
   "mimetype": "text/x-python",
   "name": "python",
   "nbconvert_exporter": "python",
   "pygments_lexer": "ipython3",
   "version": "3.9.13"
  }
 },
 "nbformat": 4,
 "nbformat_minor": 5
}
