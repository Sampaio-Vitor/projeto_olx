{
 "cells": [
  {
   "cell_type": "code",
   "execution_count": null,
   "id": "3e7c6649",
   "metadata": {},
   "outputs": [
    {
     "name": "stderr",
     "output_type": "stream",
     "text": [
      "\r",
      "Scraping:   0%|                                                                               | 0/5282 [00:00<?, ?it/s]"
     ]
    },
    {
     "name": "stdout",
     "output_type": "stream",
     "text": [
      "Scraping link 1/5282\n"
     ]
    },
    {
     "name": "stderr",
     "output_type": "stream",
     "text": [
      "\r",
      "Scraping:   0%|                                                                    | 1/5282 [00:35<52:12:56, 35.59s/it]"
     ]
    },
    {
     "name": "stdout",
     "output_type": "stream",
     "text": [
      "                                               TITLE  \\\n",
      "0  Belo Horizonte - Apartamento Padrão - Parque L...   \n",
      "\n",
      "                                                LINK DATE_SCRAPE  \\\n",
      "0  https://mg.olx.com.br/belo-horizonte-e-regiao/...  2023-08-05   \n",
      "\n",
      "             CITY       CEP   NEIGHBORHOOD   CONDO   TAX  AREA ROOMS_NO  \\\n",
      "0  Belo Horizonte  31540470  Jardim Leblon  R$ 200  R$ 0  55m²        2   \n",
      "\n",
      "  BATH_NO PARKING_SPOTS APARTMENT_DETAILS   PRICE      REGION  \n",
      "0       2             1               N/A  199900  venda_nova  \n",
      "Scraping link 2/5282\n"
     ]
    },
    {
     "name": "stderr",
     "output_type": "stream",
     "text": [
      "\r",
      "Scraping:   0%|                                                                    | 2/5282 [00:41<26:36:17, 18.14s/it]"
     ]
    },
    {
     "name": "stdout",
     "output_type": "stream",
     "text": [
      "                                               TITLE  \\\n",
      "0  Belo Horizonte - Apartamento Padrão - Parque L...   \n",
      "1  Cobertura à Venda - 3 Quartos sendo 1 Suíte - ...   \n",
      "\n",
      "                                                LINK DATE_SCRAPE  \\\n",
      "0  https://mg.olx.com.br/belo-horizonte-e-regiao/...  2023-08-05   \n",
      "1  https://mg.olx.com.br/belo-horizonte-e-regiao/...  2023-08-05   \n",
      "\n",
      "             CITY       CEP                   NEIGHBORHOOD   CONDO    TAX  \\\n",
      "0  Belo Horizonte  31540470                  Jardim Leblon  R$ 200   R$ 0   \n",
      "1  Belo Horizonte  31520190  São João Batista (Venda Nova)  R$ 180  R$ 90   \n",
      "\n",
      "    AREA ROOMS_NO BATH_NO PARKING_SPOTS APARTMENT_DETAILS   PRICE      REGION  \n",
      "0   55m²        2       2             1               N/A  199900  venda_nova  \n",
      "1  130m²        3       3             2   Área de serviço  550000  venda_nova  \n",
      "Scraping link 3/5282\n"
     ]
    },
    {
     "name": "stderr",
     "output_type": "stream",
     "text": [
      "\r",
      "Scraping:   0%|                                                                    | 3/5282 [00:45<17:13:19, 11.74s/it]"
     ]
    },
    {
     "name": "stdout",
     "output_type": "stream",
     "text": [
      "                                               TITLE  \\\n",
      "0  Belo Horizonte - Apartamento Padrão - Parque L...   \n",
      "1  Cobertura à Venda - 3 Quartos sendo 1 Suíte - ...   \n",
      "2  Cobertura com 2 Quartos à Venda, 90m² por R$ 3...   \n",
      "\n",
      "                                                LINK DATE_SCRAPE  \\\n",
      "0  https://mg.olx.com.br/belo-horizonte-e-regiao/...  2023-08-05   \n",
      "1  https://mg.olx.com.br/belo-horizonte-e-regiao/...  2023-08-05   \n",
      "2  https://mg.olx.com.br/belo-horizonte-e-regiao/...  2023-08-05   \n",
      "\n",
      "             CITY       CEP                   NEIGHBORHOOD   CONDO    TAX  \\\n",
      "0  Belo Horizonte  31540470                  Jardim Leblon  R$ 200   R$ 0   \n",
      "1  Belo Horizonte  31520190  São João Batista (Venda Nova)  R$ 180  R$ 90   \n",
      "2  Belo Horizonte  31573080       Piratininga (Venda Nova)    R$ 0   R$ 0   \n",
      "\n",
      "    AREA ROOMS_NO BATH_NO PARKING_SPOTS APARTMENT_DETAILS   PRICE      REGION  \n",
      "0   55m²        2       2             1               N/A  199900  venda_nova  \n",
      "1  130m²        3       3             2   Área de serviço  550000  venda_nova  \n",
      "2   90m²        2       2             1               N/A  350000  venda_nova  \n",
      "Scraping link 4/5282\n"
     ]
    },
    {
     "name": "stderr",
     "output_type": "stream",
     "text": [
      "\r",
      "Scraping:   0%|                                                                    | 4/5282 [00:52<14:24:29,  9.83s/it]"
     ]
    },
    {
     "name": "stdout",
     "output_type": "stream",
     "text": [
      "                                               TITLE  \\\n",
      "0  Belo Horizonte - Apartamento Padrão - Parque L...   \n",
      "1  Cobertura à Venda - 3 Quartos sendo 1 Suíte - ...   \n",
      "2  Cobertura com 2 Quartos à Venda, 90m² por R$ 3...   \n",
      "3  Apartamento com Área Privativa em \"U\" à Venda ...   \n",
      "\n",
      "                                                LINK DATE_SCRAPE  \\\n",
      "0  https://mg.olx.com.br/belo-horizonte-e-regiao/...  2023-08-05   \n",
      "1  https://mg.olx.com.br/belo-horizonte-e-regiao/...  2023-08-05   \n",
      "2  https://mg.olx.com.br/belo-horizonte-e-regiao/...  2023-08-05   \n",
      "3  https://mg.olx.com.br/belo-horizonte-e-regiao/...  2023-08-05   \n",
      "\n",
      "             CITY       CEP                   NEIGHBORHOOD   CONDO    TAX  \\\n",
      "0  Belo Horizonte  31540470                  Jardim Leblon  R$ 200   R$ 0   \n",
      "1  Belo Horizonte  31520190  São João Batista (Venda Nova)  R$ 180  R$ 90   \n",
      "2  Belo Horizonte  31573080       Piratininga (Venda Nova)    R$ 0   R$ 0   \n",
      "3  Belo Horizonte  31535350                     Rio Branco  R$ 100  R$ 80   \n",
      "\n",
      "    AREA ROOMS_NO BATH_NO PARKING_SPOTS APARTMENT_DETAILS   PRICE      REGION  \n",
      "0   55m²        2       2             1               N/A  199900  venda_nova  \n",
      "1  130m²        3       3             2   Área de serviço  550000  venda_nova  \n",
      "2   90m²        2       2             1               N/A  350000  venda_nova  \n",
      "3  100m²        2       1             1   Área de serviço  350000  venda_nova  \n",
      "Scraping link 5/5282\n"
     ]
    },
    {
     "name": "stderr",
     "output_type": "stream",
     "text": [
      "\r",
      "Scraping:   0%|                                                                    | 5/5282 [00:57<11:34:21,  7.89s/it]"
     ]
    },
    {
     "name": "stdout",
     "output_type": "stream",
     "text": [
      "                                               TITLE  \\\n",
      "0  Belo Horizonte - Apartamento Padrão - Parque L...   \n",
      "1  Cobertura à Venda - 3 Quartos sendo 1 Suíte - ...   \n",
      "2  Cobertura com 2 Quartos à Venda, 90m² por R$ 3...   \n",
      "3  Apartamento com Área Privativa em \"U\" à Venda ...   \n",
      "4  Apartamento à venda, 2 quartos, 1 suíte, 1 vag...   \n",
      "\n",
      "                                                LINK DATE_SCRAPE  \\\n",
      "0  https://mg.olx.com.br/belo-horizonte-e-regiao/...  2023-08-05   \n",
      "1  https://mg.olx.com.br/belo-horizonte-e-regiao/...  2023-08-05   \n",
      "2  https://mg.olx.com.br/belo-horizonte-e-regiao/...  2023-08-05   \n",
      "3  https://mg.olx.com.br/belo-horizonte-e-regiao/...  2023-08-05   \n",
      "4  https://mg.olx.com.br/belo-horizonte-e-regiao/...  2023-08-05   \n",
      "\n",
      "             CITY       CEP                   NEIGHBORHOOD   CONDO    TAX  \\\n",
      "0  Belo Horizonte  31540470                  Jardim Leblon  R$ 200   R$ 0   \n",
      "1  Belo Horizonte  31520190  São João Batista (Venda Nova)  R$ 180  R$ 90   \n",
      "2  Belo Horizonte  31573080       Piratininga (Venda Nova)    R$ 0   R$ 0   \n",
      "3  Belo Horizonte  31535350                     Rio Branco  R$ 100  R$ 80   \n",
      "4  Belo Horizonte  31520070  São João Batista (Venda Nova)    R$ 0   R$ 0   \n",
      "\n",
      "    AREA ROOMS_NO BATH_NO PARKING_SPOTS APARTMENT_DETAILS   PRICE      REGION  \n",
      "0   55m²        2       2             1               N/A  199900  venda_nova  \n",
      "1  130m²        3       3             2   Área de serviço  550000  venda_nova  \n",
      "2   90m²        2       2             1               N/A  350000  venda_nova  \n",
      "3  100m²        2       1             1   Área de serviço  350000  venda_nova  \n",
      "4   65m²        2       2             1               N/A  250000  venda_nova  \n",
      "Scraping link 6/5282\n"
     ]
    },
    {
     "name": "stderr",
     "output_type": "stream",
     "text": [
      "\r",
      "Scraping:   0%|                                                                    | 6/5282 [01:03<10:45:30,  7.34s/it]"
     ]
    },
    {
     "name": "stdout",
     "output_type": "stream",
     "text": [
      "                                               TITLE  \\\n",
      "0  Belo Horizonte - Apartamento Padrão - Parque L...   \n",
      "1  Cobertura à Venda - 3 Quartos sendo 1 Suíte - ...   \n",
      "2  Cobertura com 2 Quartos à Venda, 90m² por R$ 3...   \n",
      "3  Apartamento com Área Privativa em \"U\" à Venda ...   \n",
      "4  Apartamento à venda, 2 quartos, 1 suíte, 1 vag...   \n",
      "\n",
      "                                                LINK DATE_SCRAPE  \\\n",
      "0  https://mg.olx.com.br/belo-horizonte-e-regiao/...  2023-08-05   \n",
      "1  https://mg.olx.com.br/belo-horizonte-e-regiao/...  2023-08-05   \n",
      "2  https://mg.olx.com.br/belo-horizonte-e-regiao/...  2023-08-05   \n",
      "3  https://mg.olx.com.br/belo-horizonte-e-regiao/...  2023-08-05   \n",
      "4  https://mg.olx.com.br/belo-horizonte-e-regiao/...  2023-08-05   \n",
      "\n",
      "             CITY       CEP                   NEIGHBORHOOD   CONDO    TAX  \\\n",
      "0  Belo Horizonte  31540470                  Jardim Leblon  R$ 200   R$ 0   \n",
      "1  Belo Horizonte  31520190  São João Batista (Venda Nova)  R$ 180  R$ 90   \n",
      "2  Belo Horizonte  31573080       Piratininga (Venda Nova)    R$ 0   R$ 0   \n",
      "3  Belo Horizonte  31535350                     Rio Branco  R$ 100  R$ 80   \n",
      "4  Belo Horizonte  31520070  São João Batista (Venda Nova)    R$ 0   R$ 0   \n",
      "\n",
      "    AREA ROOMS_NO BATH_NO PARKING_SPOTS APARTMENT_DETAILS   PRICE      REGION  \n",
      "0   55m²        2       2             1               N/A  199900  venda_nova  \n",
      "1  130m²        3       3             2   Área de serviço  550000  venda_nova  \n",
      "2   90m²        2       2             1               N/A  350000  venda_nova  \n",
      "3  100m²        2       1             1   Área de serviço  350000  venda_nova  \n",
      "4   65m²        2       2             1               N/A  250000  venda_nova  \n",
      "Scraping link 7/5282\n"
     ]
    },
    {
     "name": "stderr",
     "output_type": "stream",
     "text": [
      "\r",
      "Scraping:   0%|                                                                     | 7/5282 [01:07<9:22:14,  6.40s/it]"
     ]
    },
    {
     "name": "stdout",
     "output_type": "stream",
     "text": [
      "                                               TITLE  \\\n",
      "0  Belo Horizonte - Apartamento Padrão - Parque L...   \n",
      "1  Cobertura à Venda - 3 Quartos sendo 1 Suíte - ...   \n",
      "2  Cobertura com 2 Quartos à Venda, 90m² por R$ 3...   \n",
      "3  Apartamento com Área Privativa em \"U\" à Venda ...   \n",
      "4  Apartamento à venda, 2 quartos, 1 suíte, 1 vag...   \n",
      "\n",
      "                                                LINK DATE_SCRAPE  \\\n",
      "0  https://mg.olx.com.br/belo-horizonte-e-regiao/...  2023-08-05   \n",
      "1  https://mg.olx.com.br/belo-horizonte-e-regiao/...  2023-08-05   \n",
      "2  https://mg.olx.com.br/belo-horizonte-e-regiao/...  2023-08-05   \n",
      "3  https://mg.olx.com.br/belo-horizonte-e-regiao/...  2023-08-05   \n",
      "4  https://mg.olx.com.br/belo-horizonte-e-regiao/...  2023-08-05   \n",
      "\n",
      "             CITY       CEP                   NEIGHBORHOOD   CONDO    TAX  \\\n",
      "0  Belo Horizonte  31540470                  Jardim Leblon  R$ 200   R$ 0   \n",
      "1  Belo Horizonte  31520190  São João Batista (Venda Nova)  R$ 180  R$ 90   \n",
      "2  Belo Horizonte  31573080       Piratininga (Venda Nova)    R$ 0   R$ 0   \n",
      "3  Belo Horizonte  31535350                     Rio Branco  R$ 100  R$ 80   \n",
      "4  Belo Horizonte  31520070  São João Batista (Venda Nova)    R$ 0   R$ 0   \n",
      "\n",
      "    AREA ROOMS_NO BATH_NO PARKING_SPOTS APARTMENT_DETAILS   PRICE      REGION  \n",
      "0   55m²        2       2             1               N/A  199900  venda_nova  \n",
      "1  130m²        3       3             2   Área de serviço  550000  venda_nova  \n",
      "2   90m²        2       2             1               N/A  350000  venda_nova  \n",
      "3  100m²        2       1             1   Área de serviço  350000  venda_nova  \n",
      "4   65m²        2       2             1               N/A  250000  venda_nova  \n",
      "Scraping link 8/5282\n"
     ]
    },
    {
     "name": "stderr",
     "output_type": "stream",
     "text": [
      "\r",
      "Scraping:   0%|                                                                     | 8/5282 [01:14<9:19:59,  6.37s/it]"
     ]
    },
    {
     "name": "stdout",
     "output_type": "stream",
     "text": [
      "                                               TITLE  \\\n",
      "0  Belo Horizonte - Apartamento Padrão - Parque L...   \n",
      "1  Cobertura à Venda - 3 Quartos sendo 1 Suíte - ...   \n",
      "2  Cobertura com 2 Quartos à Venda, 90m² por R$ 3...   \n",
      "3  Apartamento com Área Privativa em \"U\" à Venda ...   \n",
      "4  Apartamento à venda, 2 quartos, 1 suíte, 1 vag...   \n",
      "\n",
      "                                                LINK DATE_SCRAPE  \\\n",
      "0  https://mg.olx.com.br/belo-horizonte-e-regiao/...  2023-08-05   \n",
      "1  https://mg.olx.com.br/belo-horizonte-e-regiao/...  2023-08-05   \n",
      "2  https://mg.olx.com.br/belo-horizonte-e-regiao/...  2023-08-05   \n",
      "3  https://mg.olx.com.br/belo-horizonte-e-regiao/...  2023-08-05   \n",
      "4  https://mg.olx.com.br/belo-horizonte-e-regiao/...  2023-08-05   \n",
      "\n",
      "             CITY       CEP                   NEIGHBORHOOD   CONDO    TAX  \\\n",
      "0  Belo Horizonte  31540470                  Jardim Leblon  R$ 200   R$ 0   \n",
      "1  Belo Horizonte  31520190  São João Batista (Venda Nova)  R$ 180  R$ 90   \n",
      "2  Belo Horizonte  31573080       Piratininga (Venda Nova)    R$ 0   R$ 0   \n",
      "3  Belo Horizonte  31535350                     Rio Branco  R$ 100  R$ 80   \n",
      "4  Belo Horizonte  31520070  São João Batista (Venda Nova)    R$ 0   R$ 0   \n",
      "\n",
      "    AREA ROOMS_NO BATH_NO PARKING_SPOTS APARTMENT_DETAILS   PRICE      REGION  \n",
      "0   55m²        2       2             1               N/A  199900  venda_nova  \n",
      "1  130m²        3       3             2   Área de serviço  550000  venda_nova  \n",
      "2   90m²        2       2             1               N/A  350000  venda_nova  \n",
      "3  100m²        2       1             1   Área de serviço  350000  venda_nova  \n",
      "4   65m²        2       2             1               N/A  250000  venda_nova  \n",
      "Scraping link 9/5282\n"
     ]
    },
    {
     "name": "stderr",
     "output_type": "stream",
     "text": [
      "\r",
      "Scraping:   0%|                                                                     | 9/5282 [01:18<8:29:10,  5.79s/it]"
     ]
    },
    {
     "name": "stdout",
     "output_type": "stream",
     "text": [
      "                                               TITLE  \\\n",
      "0  Belo Horizonte - Apartamento Padrão - Parque L...   \n",
      "1  Cobertura à Venda - 3 Quartos sendo 1 Suíte - ...   \n",
      "2  Cobertura com 2 Quartos à Venda, 90m² por R$ 3...   \n",
      "3  Apartamento com Área Privativa em \"U\" à Venda ...   \n",
      "4  Apartamento à venda, 2 quartos, 1 suíte, 1 vag...   \n",
      "\n",
      "                                                LINK DATE_SCRAPE  \\\n",
      "0  https://mg.olx.com.br/belo-horizonte-e-regiao/...  2023-08-05   \n",
      "1  https://mg.olx.com.br/belo-horizonte-e-regiao/...  2023-08-05   \n",
      "2  https://mg.olx.com.br/belo-horizonte-e-regiao/...  2023-08-05   \n",
      "3  https://mg.olx.com.br/belo-horizonte-e-regiao/...  2023-08-05   \n",
      "4  https://mg.olx.com.br/belo-horizonte-e-regiao/...  2023-08-05   \n",
      "\n",
      "             CITY       CEP                   NEIGHBORHOOD   CONDO    TAX  \\\n",
      "0  Belo Horizonte  31540470                  Jardim Leblon  R$ 200   R$ 0   \n",
      "1  Belo Horizonte  31520190  São João Batista (Venda Nova)  R$ 180  R$ 90   \n",
      "2  Belo Horizonte  31573080       Piratininga (Venda Nova)    R$ 0   R$ 0   \n",
      "3  Belo Horizonte  31535350                     Rio Branco  R$ 100  R$ 80   \n",
      "4  Belo Horizonte  31520070  São João Batista (Venda Nova)    R$ 0   R$ 0   \n",
      "\n",
      "    AREA ROOMS_NO BATH_NO PARKING_SPOTS APARTMENT_DETAILS   PRICE      REGION  \n",
      "0   55m²        2       2             1               N/A  199900  venda_nova  \n",
      "1  130m²        3       3             2   Área de serviço  550000  venda_nova  \n",
      "2   90m²        2       2             1               N/A  350000  venda_nova  \n",
      "3  100m²        2       1             1   Área de serviço  350000  venda_nova  \n",
      "4   65m²        2       2             1               N/A  250000  venda_nova  \n",
      "Scraping link 10/5282\n"
     ]
    },
    {
     "name": "stderr",
     "output_type": "stream",
     "text": [
      "\r",
      "Scraping:   0%|▏                                                                   | 10/5282 [01:22<7:48:29,  5.33s/it]"
     ]
    },
    {
     "name": "stdout",
     "output_type": "stream",
     "text": [
      "                                               TITLE  \\\n",
      "0  Belo Horizonte - Apartamento Padrão - Parque L...   \n",
      "1  Cobertura à Venda - 3 Quartos sendo 1 Suíte - ...   \n",
      "2  Cobertura com 2 Quartos à Venda, 90m² por R$ 3...   \n",
      "3  Apartamento com Área Privativa em \"U\" à Venda ...   \n",
      "4  Apartamento à venda, 2 quartos, 1 suíte, 1 vag...   \n",
      "\n",
      "                                                LINK DATE_SCRAPE  \\\n",
      "0  https://mg.olx.com.br/belo-horizonte-e-regiao/...  2023-08-05   \n",
      "1  https://mg.olx.com.br/belo-horizonte-e-regiao/...  2023-08-05   \n",
      "2  https://mg.olx.com.br/belo-horizonte-e-regiao/...  2023-08-05   \n",
      "3  https://mg.olx.com.br/belo-horizonte-e-regiao/...  2023-08-05   \n",
      "4  https://mg.olx.com.br/belo-horizonte-e-regiao/...  2023-08-05   \n",
      "\n",
      "             CITY       CEP                   NEIGHBORHOOD   CONDO    TAX  \\\n",
      "0  Belo Horizonte  31540470                  Jardim Leblon  R$ 200   R$ 0   \n",
      "1  Belo Horizonte  31520190  São João Batista (Venda Nova)  R$ 180  R$ 90   \n",
      "2  Belo Horizonte  31573080       Piratininga (Venda Nova)    R$ 0   R$ 0   \n",
      "3  Belo Horizonte  31535350                     Rio Branco  R$ 100  R$ 80   \n",
      "4  Belo Horizonte  31520070  São João Batista (Venda Nova)    R$ 0   R$ 0   \n",
      "\n",
      "    AREA ROOMS_NO BATH_NO PARKING_SPOTS APARTMENT_DETAILS   PRICE      REGION  \n",
      "0   55m²        2       2             1               N/A  199900  venda_nova  \n",
      "1  130m²        3       3             2   Área de serviço  550000  venda_nova  \n",
      "2   90m²        2       2             1               N/A  350000  venda_nova  \n",
      "3  100m²        2       1             1   Área de serviço  350000  venda_nova  \n",
      "4   65m²        2       2             1               N/A  250000  venda_nova  \n",
      "Scraping link 11/5282\n"
     ]
    },
    {
     "name": "stderr",
     "output_type": "stream",
     "text": [
      "\r",
      "Scraping:   0%|▏                                                                   | 11/5282 [01:27<7:24:04,  5.06s/it]"
     ]
    },
    {
     "name": "stdout",
     "output_type": "stream",
     "text": [
      "                                               TITLE  \\\n",
      "0  Belo Horizonte - Apartamento Padrão - Parque L...   \n",
      "1  Cobertura à Venda - 3 Quartos sendo 1 Suíte - ...   \n",
      "2  Cobertura com 2 Quartos à Venda, 90m² por R$ 3...   \n",
      "3  Apartamento com Área Privativa em \"U\" à Venda ...   \n",
      "4  Apartamento à venda, 2 quartos, 1 suíte, 1 vag...   \n",
      "\n",
      "                                                LINK DATE_SCRAPE  \\\n",
      "0  https://mg.olx.com.br/belo-horizonte-e-regiao/...  2023-08-05   \n",
      "1  https://mg.olx.com.br/belo-horizonte-e-regiao/...  2023-08-05   \n",
      "2  https://mg.olx.com.br/belo-horizonte-e-regiao/...  2023-08-05   \n",
      "3  https://mg.olx.com.br/belo-horizonte-e-regiao/...  2023-08-05   \n",
      "4  https://mg.olx.com.br/belo-horizonte-e-regiao/...  2023-08-05   \n",
      "\n",
      "             CITY       CEP                   NEIGHBORHOOD   CONDO    TAX  \\\n",
      "0  Belo Horizonte  31540470                  Jardim Leblon  R$ 200   R$ 0   \n",
      "1  Belo Horizonte  31520190  São João Batista (Venda Nova)  R$ 180  R$ 90   \n",
      "2  Belo Horizonte  31573080       Piratininga (Venda Nova)    R$ 0   R$ 0   \n",
      "3  Belo Horizonte  31535350                     Rio Branco  R$ 100  R$ 80   \n",
      "4  Belo Horizonte  31520070  São João Batista (Venda Nova)    R$ 0   R$ 0   \n",
      "\n",
      "    AREA ROOMS_NO BATH_NO PARKING_SPOTS APARTMENT_DETAILS   PRICE      REGION  \n",
      "0   55m²        2       2             1               N/A  199900  venda_nova  \n",
      "1  130m²        3       3             2   Área de serviço  550000  venda_nova  \n",
      "2   90m²        2       2             1               N/A  350000  venda_nova  \n",
      "3  100m²        2       1             1   Área de serviço  350000  venda_nova  \n",
      "4   65m²        2       2             1               N/A  250000  venda_nova  \n",
      "Scraping link 12/5282\n"
     ]
    },
    {
     "name": "stderr",
     "output_type": "stream",
     "text": [
      "\r",
      "Scraping:   0%|▏                                                                   | 12/5282 [01:33<7:54:37,  5.40s/it]"
     ]
    },
    {
     "name": "stdout",
     "output_type": "stream",
     "text": [
      "                                               TITLE  \\\n",
      "0  Belo Horizonte - Apartamento Padrão - Parque L...   \n",
      "1  Cobertura à Venda - 3 Quartos sendo 1 Suíte - ...   \n",
      "2  Cobertura com 2 Quartos à Venda, 90m² por R$ 3...   \n",
      "3  Apartamento com Área Privativa em \"U\" à Venda ...   \n",
      "4  Apartamento à venda, 2 quartos, 1 suíte, 1 vag...   \n",
      "\n",
      "                                                LINK DATE_SCRAPE  \\\n",
      "0  https://mg.olx.com.br/belo-horizonte-e-regiao/...  2023-08-05   \n",
      "1  https://mg.olx.com.br/belo-horizonte-e-regiao/...  2023-08-05   \n",
      "2  https://mg.olx.com.br/belo-horizonte-e-regiao/...  2023-08-05   \n",
      "3  https://mg.olx.com.br/belo-horizonte-e-regiao/...  2023-08-05   \n",
      "4  https://mg.olx.com.br/belo-horizonte-e-regiao/...  2023-08-05   \n",
      "\n",
      "             CITY       CEP                   NEIGHBORHOOD   CONDO    TAX  \\\n",
      "0  Belo Horizonte  31540470                  Jardim Leblon  R$ 200   R$ 0   \n",
      "1  Belo Horizonte  31520190  São João Batista (Venda Nova)  R$ 180  R$ 90   \n",
      "2  Belo Horizonte  31573080       Piratininga (Venda Nova)    R$ 0   R$ 0   \n",
      "3  Belo Horizonte  31535350                     Rio Branco  R$ 100  R$ 80   \n",
      "4  Belo Horizonte  31520070  São João Batista (Venda Nova)    R$ 0   R$ 0   \n",
      "\n",
      "    AREA ROOMS_NO BATH_NO PARKING_SPOTS APARTMENT_DETAILS   PRICE      REGION  \n",
      "0   55m²        2       2             1               N/A  199900  venda_nova  \n",
      "1  130m²        3       3             2   Área de serviço  550000  venda_nova  \n",
      "2   90m²        2       2             1               N/A  350000  venda_nova  \n",
      "3  100m²        2       1             1   Área de serviço  350000  venda_nova  \n",
      "4   65m²        2       2             1               N/A  250000  venda_nova  \n",
      "Scraping link 13/5282\n"
     ]
    },
    {
     "name": "stderr",
     "output_type": "stream",
     "text": [
      "\r",
      "Scraping:   0%|▏                                                                   | 13/5282 [01:38<7:55:57,  5.42s/it]"
     ]
    },
    {
     "name": "stdout",
     "output_type": "stream",
     "text": [
      "                                               TITLE  \\\n",
      "0  Belo Horizonte - Apartamento Padrão - Parque L...   \n",
      "1  Cobertura à Venda - 3 Quartos sendo 1 Suíte - ...   \n",
      "2  Cobertura com 2 Quartos à Venda, 90m² por R$ 3...   \n",
      "3  Apartamento com Área Privativa em \"U\" à Venda ...   \n",
      "4  Apartamento à venda, 2 quartos, 1 suíte, 1 vag...   \n",
      "\n",
      "                                                LINK DATE_SCRAPE  \\\n",
      "0  https://mg.olx.com.br/belo-horizonte-e-regiao/...  2023-08-05   \n",
      "1  https://mg.olx.com.br/belo-horizonte-e-regiao/...  2023-08-05   \n",
      "2  https://mg.olx.com.br/belo-horizonte-e-regiao/...  2023-08-05   \n",
      "3  https://mg.olx.com.br/belo-horizonte-e-regiao/...  2023-08-05   \n",
      "4  https://mg.olx.com.br/belo-horizonte-e-regiao/...  2023-08-05   \n",
      "\n",
      "             CITY       CEP                   NEIGHBORHOOD   CONDO    TAX  \\\n",
      "0  Belo Horizonte  31540470                  Jardim Leblon  R$ 200   R$ 0   \n",
      "1  Belo Horizonte  31520190  São João Batista (Venda Nova)  R$ 180  R$ 90   \n",
      "2  Belo Horizonte  31573080       Piratininga (Venda Nova)    R$ 0   R$ 0   \n",
      "3  Belo Horizonte  31535350                     Rio Branco  R$ 100  R$ 80   \n",
      "4  Belo Horizonte  31520070  São João Batista (Venda Nova)    R$ 0   R$ 0   \n",
      "\n",
      "    AREA ROOMS_NO BATH_NO PARKING_SPOTS APARTMENT_DETAILS   PRICE      REGION  \n",
      "0   55m²        2       2             1               N/A  199900  venda_nova  \n",
      "1  130m²        3       3             2   Área de serviço  550000  venda_nova  \n",
      "2   90m²        2       2             1               N/A  350000  venda_nova  \n",
      "3  100m²        2       1             1   Área de serviço  350000  venda_nova  \n",
      "4   65m²        2       2             1               N/A  250000  venda_nova  \n",
      "Scraping link 14/5282\n"
     ]
    }
   ],
   "source": [
    "from selenium import webdriver\n",
    "from selenium.webdriver.chrome.options import Options\n",
    "from selenium.webdriver.common.by import By\n",
    "from selenium.webdriver.support.ui import WebDriverWait\n",
    "from selenium.webdriver.support import expected_conditions as EC\n",
    "from bs4 import BeautifulSoup\n",
    "from datetime import datetime\n",
    "import pandas as pd\n",
    "import time\n",
    "options = Options()\n",
    "options.add_argument(\"--start-maximized\")\n",
    "import warnings\n",
    "warnings.filterwarnings('ignore')\n",
    "from datetime import datetime\n",
    "import re\n",
    "from tqdm import tqdm\n",
    "\n",
    "\n",
    "\n",
    "def fetch_data_from_ad(driver, url):\n",
    "    driver.get(url)\n",
    "    WebDriverWait(driver, 30).until(EC.presence_of_element_located((By.CSS_SELECTOR, 'h1[class=\"ad__sc-45jt43-0 htAiPK sc-hSdWYo bYQcLm\"]')))\n",
    "    soup = BeautifulSoup(driver.page_source, 'html.parser')\n",
    "    \n",
    "    def get_text_by_index(elements, index, default='N/A'):\n",
    "        return elements[index].text if len(elements) > index else default\n",
    "    \n",
    "    all_spans = soup.find_all('span', {'class': 'ad__sc-1f2ug0x-1 cpGpXB sc-hSdWYo gwYTWo'})\n",
    "    details = soup.find('span', text=re.compile('Detalhes do imóvel'))\n",
    "    rooms_elem = soup.find('span', text='Quartos')\n",
    "    rooms_no = rooms_elem.find_next_sibling('div').a.text if rooms_elem and rooms_elem.find_next_sibling('div') else 'N/A'\n",
    "\n",
    "    data = {\n",
    "        'TITLE': soup.find('h1', {'class': 'ad__sc-45jt43-0 htAiPK sc-hSdWYo bYQcLm'}).text,\n",
    "        'LINK': url,\n",
    "        'DATE_SCRAPE': datetime.today().strftime('%Y-%m-%d'),\n",
    "        'CEP': get_text_by_index(all_spans, 0),\n",
    "        'CITY': get_text_by_index(all_spans, 1),\n",
    "        'NEIGHBORHOOD': get_text_by_index(all_spans, 2),\n",
    "        'CONDO': get_text_by_index(all_spans, 4),\n",
    "        'TAX': get_text_by_index(all_spans, 5),\n",
    "        'AREA': get_text_by_index(all_spans, 6),\n",
    "        'ROOMS_NO': rooms_no,\n",
    "        'BATH_NO': get_text_by_index(all_spans, 7),\n",
    "        'PARKING_SPOTS': get_text_by_index(all_spans, 8),\n",
    "        'APARTMENT_DETAILS': details.find_next_sibling().text if details and details.find_next_sibling() else 'N/A',\n",
    "        'PRICE': int(get_text_by_index(soup.find_all('h2', {'class': 'ad__sc-12l420o-1 haeKsn sc-hSdWYo grMlBs'}), 1).replace('.', ''))\n",
    "    }\n",
    "\n",
    "    return data\n",
    "\n",
    "df_detailed = pd.DataFrame()\n",
    "\n",
    "df_links = pd.read_csv('links_unificados_2.csv')\n",
    "\n",
    "driver = webdriver.Chrome(options=options)\n",
    "total_links = len(df_links)\n",
    "for i, row in tqdm(enumerate(df_links.iterrows()), total=total_links, desc=\"Scraping\"):\n",
    "    print(f\"Scraping link {i+1}/{total_links}\")\n",
    "    url = row[1]['link']\n",
    "    region = row[1]['REGION']   # Extracting REGION value\n",
    "    data = fetch_data_from_ad(driver, url)\n",
    "    data['REGION'] = region     # Adding REGION to the data dictionary\n",
    "    df_detailed = df_detailed.append(data, ignore_index=True)\n",
    "    df_detailed = df_detailed[['TITLE', 'LINK', 'DATE_SCRAPE', 'CITY', 'CEP', 'NEIGHBORHOOD', 'CONDO', 'TAX', 'AREA', 'ROOMS_NO', 'BATH_NO', 'PARKING_SPOTS', 'APARTMENT_DETAILS', 'PRICE', 'REGION']]\n",
    "    df_detailed.to_csv('dados_detalhados_olx_2.csv', index=False)\n",
    "    time.sleep(3)\n",
    "    print(df_detailed.head())\n",
    "\n",
    "driver.quit()\n"
   ]
  },
  {
   "cell_type": "code",
   "execution_count": null,
   "id": "e2d143af",
   "metadata": {},
   "outputs": [],
   "source": []
  }
 ],
 "metadata": {
  "kernelspec": {
   "display_name": "Python 3 (ipykernel)",
   "language": "python",
   "name": "python3"
  },
  "language_info": {
   "codemirror_mode": {
    "name": "ipython",
    "version": 3
   },
   "file_extension": ".py",
   "mimetype": "text/x-python",
   "name": "python",
   "nbconvert_exporter": "python",
   "pygments_lexer": "ipython3",
   "version": "3.9.13"
  }
 },
 "nbformat": 4,
 "nbformat_minor": 5
}
