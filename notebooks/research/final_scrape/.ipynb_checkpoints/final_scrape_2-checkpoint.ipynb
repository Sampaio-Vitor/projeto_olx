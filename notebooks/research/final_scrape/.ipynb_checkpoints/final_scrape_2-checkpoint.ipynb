{
 "cells": [
  {
   "cell_type": "code",
   "execution_count": null,
   "id": "3e7c6649",
   "metadata": {},
   "outputs": [
    {
     "name": "stderr",
     "output_type": "stream",
     "text": [
      "\r",
      "Scraping:   0%|                                                                               | 0/5282 [00:00<?, ?it/s]"
     ]
    },
    {
     "name": "stdout",
     "output_type": "stream",
     "text": [
      "Scraping link 1/5282\n"
     ]
    },
    {
     "name": "stderr",
     "output_type": "stream",
     "text": [
      "\r",
      "Scraping:   0%|                                                                    | 1/5282 [00:36<53:38:52, 36.57s/it]"
     ]
    },
    {
     "name": "stdout",
     "output_type": "stream",
     "text": [
      "                     TITLE                                               LINK  \\\n",
      "0  Apartamento 03 quartos   https://mg.olx.com.br/belo-horizonte-e-regiao/...   \n",
      "\n",
      "  DATE_SCRAPE            CITY       CEP      NEIGHBORHOOD   CONDO     TAX  \\\n",
      "0  2023-08-05  Belo Horizonte  30662050  Tirol (Barreiro)  R$ 350  R$ 120   \n",
      "\n",
      "   AREA ROOMS_NO BATH_NO PARKING_SPOTS  \\\n",
      "0  67m²        3       2             1   \n",
      "\n",
      "                                   APARTMENT_DETAILS   PRICE    REGION  \n",
      "0  Área de serviço, Armários na cozinha, Armários...  260000  barreiro  \n",
      "Scraping link 2/5282\n"
     ]
    },
    {
     "name": "stderr",
     "output_type": "stream",
     "text": [
      "\r",
      "Scraping:   0%|                                                                    | 2/5282 [00:54<37:20:39, 25.46s/it]"
     ]
    },
    {
     "name": "stdout",
     "output_type": "stream",
     "text": [
      "                     TITLE                                               LINK  \\\n",
      "0  Apartamento 03 quartos   https://mg.olx.com.br/belo-horizonte-e-regiao/...   \n",
      "1                    Apto   https://mg.olx.com.br/belo-horizonte-e-regiao/...   \n",
      "\n",
      "  DATE_SCRAPE            CITY       CEP            NEIGHBORHOOD   CONDO  \\\n",
      "0  2023-08-05  Belo Horizonte  30662050        Tirol (Barreiro)  R$ 350   \n",
      "1  2023-08-05  Belo Horizonte  30620250  Milionários (Barreiro)  R$ 250   \n",
      "\n",
      "      TAX  AREA ROOMS_NO BATH_NO PARKING_SPOTS  \\\n",
      "0  R$ 120  67m²        3       2             1   \n",
      "1    R$ 0  66m²        3       1             1   \n",
      "\n",
      "                                   APARTMENT_DETAILS   PRICE    REGION  \n",
      "0  Área de serviço, Armários na cozinha, Armários...  260000  barreiro  \n",
      "1  Área de serviço, Armários na cozinha, Armários...  239990  barreiro  \n",
      "Scraping link 3/5282\n"
     ]
    },
    {
     "name": "stderr",
     "output_type": "stream",
     "text": [
      "\r",
      "Scraping:   0%|                                                                    | 3/5282 [01:01<25:11:35, 17.18s/it]"
     ]
    },
    {
     "name": "stdout",
     "output_type": "stream",
     "text": [
      "                                               TITLE  \\\n",
      "0                            Apartamento 03 quartos    \n",
      "1                                              Apto    \n",
      "2  Apartamento à venda - Barreiro, 2 quartos - Be...   \n",
      "\n",
      "                                                LINK DATE_SCRAPE  \\\n",
      "0  https://mg.olx.com.br/belo-horizonte-e-regiao/...  2023-08-05   \n",
      "1  https://mg.olx.com.br/belo-horizonte-e-regiao/...  2023-08-05   \n",
      "2  https://mg.olx.com.br/belo-horizonte-e-regiao/...  2023-08-05   \n",
      "\n",
      "             CITY       CEP            NEIGHBORHOOD   CONDO       TAX  AREA  \\\n",
      "0  Belo Horizonte  30662050        Tirol (Barreiro)  R$ 350    R$ 120  67m²   \n",
      "1  Belo Horizonte  30620250  Milionários (Barreiro)  R$ 250      R$ 0  66m²   \n",
      "2  Belo Horizonte  30640150                Barreiro  R$ 300  R$ 2.402  56m²   \n",
      "\n",
      "  ROOMS_NO BATH_NO PARKING_SPOTS  \\\n",
      "0        3       2             1   \n",
      "1        3       1             1   \n",
      "2        2       1             1   \n",
      "\n",
      "                                   APARTMENT_DETAILS   PRICE    REGION  \n",
      "0  Área de serviço, Armários na cozinha, Armários...  260000  barreiro  \n",
      "1  Área de serviço, Armários na cozinha, Armários...  239990  barreiro  \n",
      "2                                    Área de serviço  310000  barreiro  \n",
      "Scraping link 4/5282\n"
     ]
    }
   ],
   "source": [
    "from selenium import webdriver\n",
    "from selenium.webdriver.chrome.options import Options\n",
    "from selenium.webdriver.common.by import By\n",
    "from selenium.webdriver.support.ui import WebDriverWait\n",
    "from selenium.webdriver.support import expected_conditions as EC\n",
    "from bs4 import BeautifulSoup\n",
    "from datetime import datetime\n",
    "import pandas as pd\n",
    "import time\n",
    "options = Options()\n",
    "options.add_argument(\"--start-maximized\")\n",
    "import warnings\n",
    "warnings.filterwarnings('ignore')\n",
    "from datetime import datetime\n",
    "import re\n",
    "from tqdm import tqdm\n",
    "\n",
    "\n",
    "\n",
    "def fetch_data_from_ad(driver, url):\n",
    "    driver.get(url)\n",
    "    WebDriverWait(driver, 30).until(EC.presence_of_element_located((By.CSS_SELECTOR, 'h1[class=\"ad__sc-45jt43-0 htAiPK sc-hSdWYo bYQcLm\"]')))\n",
    "    soup = BeautifulSoup(driver.page_source, 'html.parser')\n",
    "    \n",
    "    def get_text_by_index(elements, index, default='N/A'):\n",
    "        return elements[index].text if len(elements) > index else default\n",
    "    \n",
    "    all_spans = soup.find_all('span', {'class': 'ad__sc-1f2ug0x-1 cpGpXB sc-hSdWYo gwYTWo'})\n",
    "    details = soup.find('span', text=re.compile('Detalhes do imóvel'))\n",
    "    rooms_elem = soup.find('span', text='Quartos')\n",
    "    rooms_no = rooms_elem.find_next_sibling('div').a.text if rooms_elem and rooms_elem.find_next_sibling('div') else 'N/A'\n",
    "\n",
    "    data = {\n",
    "        'TITLE': soup.find('h1', {'class': 'ad__sc-45jt43-0 htAiPK sc-hSdWYo bYQcLm'}).text,\n",
    "        'LINK': url,\n",
    "        'DATE_SCRAPE': datetime.today().strftime('%Y-%m-%d'),\n",
    "        'CEP': get_text_by_index(all_spans, 0),\n",
    "        'CITY': get_text_by_index(all_spans, 1),\n",
    "        'NEIGHBORHOOD': get_text_by_index(all_spans, 2),\n",
    "        'CONDO': get_text_by_index(all_spans, 4),\n",
    "        'TAX': get_text_by_index(all_spans, 5),\n",
    "        'AREA': get_text_by_index(all_spans, 6),\n",
    "        'ROOMS_NO': rooms_no,\n",
    "        'BATH_NO': get_text_by_index(all_spans, 7),\n",
    "        'PARKING_SPOTS': get_text_by_index(all_spans, 8),\n",
    "        'APARTMENT_DETAILS': details.find_next_sibling().text if details and details.find_next_sibling() else 'N/A',\n",
    "        'PRICE': int(get_text_by_index(soup.find_all('h2', {'class': 'ad__sc-12l420o-1 haeKsn sc-hSdWYo grMlBs'}), 1).replace('.', ''))\n",
    "    }\n",
    "\n",
    "    return data\n",
    "\n",
    "df_detailed = pd.DataFrame()\n",
    "\n",
    "df_links = pd.read_csv('links_unificados_1.csv')\n",
    "\n",
    "driver = webdriver.Chrome(options=options)\n",
    "total_links = len(df_links)\n",
    "for i, row in tqdm(enumerate(df_links.iterrows()), total=total_links, desc=\"Scraping\"):\n",
    "    print(f\"Scraping link {i+1}/{total_links}\")\n",
    "    url = row[1]['link']\n",
    "    region = row[1]['REGION']   # Extracting REGION value\n",
    "    data = fetch_data_from_ad(driver, url)\n",
    "    data['REGION'] = region     # Adding REGION to the data dictionary\n",
    "    df_detailed = df_detailed.append(data, ignore_index=True)\n",
    "    df_detailed = df_detailed[['TITLE', 'LINK', 'DATE_SCRAPE', 'CITY', 'CEP', 'NEIGHBORHOOD', 'CONDO', 'TAX', 'AREA', 'ROOMS_NO', 'BATH_NO', 'PARKING_SPOTS', 'APARTMENT_DETAILS', 'PRICE', 'REGION']]\n",
    "    df_detailed.to_csv('dados_detalhados_olx_1.csv', index=False)\n",
    "    time.sleep(3)\n",
    "    print(df_detailed.head())\n",
    "\n",
    "driver.quit()\n"
   ]
  },
  {
   "cell_type": "code",
   "execution_count": null,
   "id": "e2d143af",
   "metadata": {},
   "outputs": [],
   "source": []
  }
 ],
 "metadata": {
  "kernelspec": {
   "display_name": "Python 3 (ipykernel)",
   "language": "python",
   "name": "python3"
  },
  "language_info": {
   "codemirror_mode": {
    "name": "ipython",
    "version": 3
   },
   "file_extension": ".py",
   "mimetype": "text/x-python",
   "name": "python",
   "nbconvert_exporter": "python",
   "pygments_lexer": "ipython3",
   "version": "3.9.13"
  }
 },
 "nbformat": 4,
 "nbformat_minor": 5
}
