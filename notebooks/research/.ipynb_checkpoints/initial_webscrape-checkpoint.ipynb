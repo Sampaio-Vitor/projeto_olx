{
 "cells": [
  {
   "cell_type": "code",
   "execution_count": 22,
   "id": "45f6430c",
   "metadata": {},
   "outputs": [],
   "source": [
    "def fetch_data(page_number):\n",
    "    if page_number == 1:\n",
    "        url = 'https://www.olx.com.br/imoveis/venda/apartamentos/estado-mg/belo-horizonte-e-regiao'\n",
    "    else:\n",
    "        url = f'https://www.olx.com.br/imoveis/venda/apartamentos/estado-mg/belo-horizonte-e-regiao?o={page_number}'\n",
    "\n",
    "    headers = {\"User-Agent\": \"Mozilla/5.0 (Windows NT 10.0; Win64; x64) AppleWebKit/537.36 (KHTML, like Gecko) Chrome/58.0.3029.110 Safari/537.3\"}\n",
    "\n",
    "    response = requests.get(url, headers=headers)\n",
    "    soup = BeautifulSoup(response.text, 'html.parser')\n",
    "\n",
    "    titles = soup.find_all('h2', attrs={'class': 'horizontal title sc-ifAKCX hUnWqk'})\n",
    "    links = soup.find_all('a', attrs={'data-ds-component': 'DS-NewAdCard-Link'})\n",
    "\n",
    "    data = []\n",
    "\n",
    "    for title, link in zip(titles, links):\n",
    "        row = {\n",
    "            'titulo': title.text,\n",
    "            'link': link['href'],\n",
    "            'date': datetime.now()\n",
    "        }\n",
    "\n",
    "        data.append(row)\n",
    "\n",
    "    return data\n",
    "\n",
    "# Coleta dados de todas as páginas\n",
    "data = []\n",
    "page = 1\n",
    "\n",
    "while True:\n",
    "    new_data = fetch_data(page)\n",
    "    if not new_data:\n",
    "        break\n",
    "    data.extend(new_data)\n",
    "    page += 1\n",
    "\n",
    "# Salva os dados em um DataFrame\n",
    "df = pd.DataFrame(data)"
   ]
  },
  {
   "cell_type": "code",
   "execution_count": 21,
   "id": "9be06c72",
   "metadata": {},
   "outputs": [],
   "source": [
    "df=[]"
   ]
  },
  {
   "cell_type": "code",
   "execution_count": 23,
   "id": "0b69a17e",
   "metadata": {},
   "outputs": [
    {
     "data": {
      "text/plain": [
       "268"
      ]
     },
     "execution_count": 23,
     "metadata": {},
     "output_type": "execute_result"
    }
   ],
   "source": [
    "len(df)"
   ]
  },
  {
   "cell_type": "code",
   "execution_count": 20,
   "id": "c1430e07",
   "metadata": {},
   "outputs": [
    {
     "data": {
      "text/html": [
       "<div>\n",
       "<style scoped>\n",
       "    .dataframe tbody tr th:only-of-type {\n",
       "        vertical-align: middle;\n",
       "    }\n",
       "\n",
       "    .dataframe tbody tr th {\n",
       "        vertical-align: top;\n",
       "    }\n",
       "\n",
       "    .dataframe thead th {\n",
       "        text-align: right;\n",
       "    }\n",
       "</style>\n",
       "<table border=\"1\" class=\"dataframe\">\n",
       "  <thead>\n",
       "    <tr style=\"text-align: right;\">\n",
       "      <th></th>\n",
       "      <th>titulo</th>\n",
       "      <th>link</th>\n",
       "      <th>date</th>\n",
       "    </tr>\n",
       "  </thead>\n",
       "  <tbody>\n",
       "    <tr>\n",
       "      <th>0</th>\n",
       "      <td>Imóvel a venda no Lourdes - BH</td>\n",
       "      <td>https://mg.olx.com.br/belo-horizonte-e-regiao/...</td>\n",
       "      <td>2023-08-03 19:04:01.883989</td>\n",
       "    </tr>\n",
       "    <tr>\n",
       "      <th>1</th>\n",
       "      <td>Cobertura triplex no Buritis, com 240 m², 4 qu...</td>\n",
       "      <td>https://mg.olx.com.br/belo-horizonte-e-regiao/...</td>\n",
       "      <td>2023-08-03 19:04:01.883989</td>\n",
       "    </tr>\n",
       "    <tr>\n",
       "      <th>2</th>\n",
       "      <td>Apartamento à venda no Santa Lúcia - BH com 10...</td>\n",
       "      <td>https://mg.olx.com.br/belo-horizonte-e-regiao/...</td>\n",
       "      <td>2023-08-03 19:04:01.883989</td>\n",
       "    </tr>\n",
       "    <tr>\n",
       "      <th>3</th>\n",
       "      <td>Apartamento Conquista Betim</td>\n",
       "      <td>https://mg.olx.com.br/belo-horizonte-e-regiao/...</td>\n",
       "      <td>2023-08-03 19:04:01.883989</td>\n",
       "    </tr>\n",
       "    <tr>\n",
       "      <th>4</th>\n",
       "      <td>APARTAMENTO DE ALTO PADRÃO 3 QUARTOS SENDO UMA...</td>\n",
       "      <td>https://mg.olx.com.br/belo-horizonte-e-regiao/...</td>\n",
       "      <td>2023-08-03 19:04:01.883989</td>\n",
       "    </tr>\n",
       "  </tbody>\n",
       "</table>\n",
       "</div>"
      ],
      "text/plain": [
       "                                              titulo  \\\n",
       "0                     Imóvel a venda no Lourdes - BH   \n",
       "1  Cobertura triplex no Buritis, com 240 m², 4 qu...   \n",
       "2  Apartamento à venda no Santa Lúcia - BH com 10...   \n",
       "3                        Apartamento Conquista Betim   \n",
       "4  APARTAMENTO DE ALTO PADRÃO 3 QUARTOS SENDO UMA...   \n",
       "\n",
       "                                                link  \\\n",
       "0  https://mg.olx.com.br/belo-horizonte-e-regiao/...   \n",
       "1  https://mg.olx.com.br/belo-horizonte-e-regiao/...   \n",
       "2  https://mg.olx.com.br/belo-horizonte-e-regiao/...   \n",
       "3  https://mg.olx.com.br/belo-horizonte-e-regiao/...   \n",
       "4  https://mg.olx.com.br/belo-horizonte-e-regiao/...   \n",
       "\n",
       "                        date  \n",
       "0 2023-08-03 19:04:01.883989  \n",
       "1 2023-08-03 19:04:01.883989  \n",
       "2 2023-08-03 19:04:01.883989  \n",
       "3 2023-08-03 19:04:01.883989  \n",
       "4 2023-08-03 19:04:01.883989  "
      ]
     },
     "execution_count": 20,
     "metadata": {},
     "output_type": "execute_result"
    }
   ],
   "source": [
    "df.head()"
   ]
  },
  {
   "cell_type": "code",
   "execution_count": 24,
   "id": "311048f0",
   "metadata": {},
   "outputs": [
    {
     "name": "stdout",
     "output_type": "stream",
     "text": [
      "Collecting torpyNote: you may need to restart the kernel to use updated packages.\n",
      "\n",
      "  Downloading torpy-1.1.6.tar.gz (90 kB)\n",
      "     ---------------------------------------- 0.0/90.7 kB ? eta -:--:--\n",
      "     --------------------------- ------------ 61.4/90.7 kB 3.2 MB/s eta 0:00:01\n",
      "     ---------------------------------------- 90.7/90.7 kB 1.0 MB/s eta 0:00:00\n",
      "  Preparing metadata (setup.py): started\n",
      "  Preparing metadata (setup.py): finished with status 'done'\n",
      "Requirement already satisfied: cryptography>=3.2 in c:\\users\\vitor\\miniconda3\\lib\\site-packages (from torpy) (39.0.1)\n",
      "Requirement already satisfied: cffi>=1.12 in c:\\users\\vitor\\miniconda3\\lib\\site-packages (from cryptography>=3.2->torpy) (1.15.1)\n",
      "Requirement already satisfied: pycparser in c:\\users\\vitor\\miniconda3\\lib\\site-packages (from cffi>=1.12->cryptography>=3.2->torpy) (2.21)\n",
      "Building wheels for collected packages: torpy\n",
      "  Building wheel for torpy (setup.py): started\n",
      "  Building wheel for torpy (setup.py): finished with status 'done'\n",
      "  Created wheel for torpy: filename=torpy-1.1.6-py3-none-any.whl size=84290 sha256=4c0b203e75597d4378c12c77ffcdd7933280eaba7b6afcb43ed9a0634fc70cfb\n",
      "  Stored in directory: c:\\users\\vitor\\appdata\\local\\pip\\cache\\wheels\\18\\19\\d3\\4bacc758871658dfe3ac936faaee7190e6bf0738e896f9aaa6\n",
      "Successfully built torpy\n",
      "Installing collected packages: torpy\n",
      "Successfully installed torpy-1.1.6\n"
     ]
    }
   ],
   "source": [
    "pip install torpy\n"
   ]
  },
  {
   "cell_type": "code",
   "execution_count": null,
   "id": "4e1524ea",
   "metadata": {},
   "outputs": [
    {
     "name": "stderr",
     "output_type": "stream",
     "text": [
      "Error getting version of chromedriver 115. Retrying with chromedriver 114 (attempt 1/5)\n"
     ]
    }
   ],
   "source": [
    "from selenium import webdriver\n",
    "from selenium.webdriver.common.by import By\n",
    "from selenium.webdriver.support.ui import WebDriverWait\n",
    "from selenium.webdriver.support import expected_conditions as EC\n",
    "from bs4 import BeautifulSoup\n",
    "from datetime import datetime\n",
    "import pandas as pd\n",
    "import time\n",
    "\n",
    "def fetch_data(driver, url):\n",
    "    driver.get(url)\n",
    "    WebDriverWait(driver, 30).until(EC.presence_of_element_located((By.CSS_SELECTOR, 'h2[class=\"horizontal title sc-ifAKCX hUnWqk\"]')))\n",
    "    soup = BeautifulSoup(driver.page_source, 'html.parser')\n",
    "\n",
    "    titles = soup.find_all('h2', attrs={'class': 'horizontal title sc-ifAKCX hUnWqk'})\n",
    "    links = soup.find_all('a', attrs={'data-ds-component': 'DS-NewAdCard-Link'})\n",
    "\n",
    "    data = []\n",
    "\n",
    "    for title, link in zip(titles, links):\n",
    "        row = {\n",
    "            'titulo': title.text,\n",
    "            'link': link['href'],\n",
    "            'date': datetime.now()\n",
    "        }\n",
    "\n",
    "        data.append(row)\n",
    "\n",
    "    return data\n",
    "\n",
    "# Coleta dados de todas as páginas disponíveis\n",
    "data = []\n",
    "page = 1\n",
    "\n",
    "driver = webdriver.Chrome()\n",
    "\n",
    "while True:\n",
    "    if page == 1:\n",
    "        url = 'https://www.olx.com.br/imoveis/venda/apartamentos/estado-mg/belo-horizonte-e-regiao'\n",
    "    else:\n",
    "        url = f'https://www.olx.com.br/imoveis/venda/apartamentos/estado-mg/belo-horizonte-e-regiao?o={page}'\n",
    "\n",
    "    new_data = fetch_data(driver, url)\n",
    "    if not new_data:  # Pára se a página não contiver mais dados\n",
    "        break\n",
    "    data.extend(new_data)\n",
    "    page += 1\n",
    "    time.sleep(30)  # Pausa por 30 segundos entre as solicitações\n",
    "\n",
    "driver.quit()\n",
    "\n",
    "# Salva os dados em um DataFrame\n",
    "df = pd.DataFrame(data)\n",
    "df.to_csv('dados_olx.csv', index=False)\n"
   ]
  },
  {
   "cell_type": "code",
   "execution_count": 45,
   "id": "5c9f3bd0",
   "metadata": {},
   "outputs": [
    {
     "data": {
      "text/plain": [
       "427"
      ]
     },
     "execution_count": 45,
     "metadata": {},
     "output_type": "execute_result"
    }
   ],
   "source": [
    "len(df)"
   ]
  },
  {
   "cell_type": "code",
   "execution_count": 31,
   "id": "a5dc2023",
   "metadata": {},
   "outputs": [
    {
     "data": {
      "text/html": [
       "<div>\n",
       "<style scoped>\n",
       "    .dataframe tbody tr th:only-of-type {\n",
       "        vertical-align: middle;\n",
       "    }\n",
       "\n",
       "    .dataframe tbody tr th {\n",
       "        vertical-align: top;\n",
       "    }\n",
       "\n",
       "    .dataframe thead th {\n",
       "        text-align: right;\n",
       "    }\n",
       "</style>\n",
       "<table border=\"1\" class=\"dataframe\">\n",
       "  <thead>\n",
       "    <tr style=\"text-align: right;\">\n",
       "      <th></th>\n",
       "      <th>titulo</th>\n",
       "      <th>link</th>\n",
       "      <th>date</th>\n",
       "    </tr>\n",
       "  </thead>\n",
       "  <tbody>\n",
       "    <tr>\n",
       "      <th>0</th>\n",
       "      <td>Vendo um Otimo apartamento no bairro Planalto</td>\n",
       "      <td>https://mg.olx.com.br/belo-horizonte-e-regiao/...</td>\n",
       "      <td>2023-08-03 19:29:34.161254</td>\n",
       "    </tr>\n",
       "    <tr>\n",
       "      <th>1</th>\n",
       "      <td>Imóvel a venda no Lourdes - BH</td>\n",
       "      <td>https://mg.olx.com.br/belo-horizonte-e-regiao/...</td>\n",
       "      <td>2023-08-03 19:29:34.161254</td>\n",
       "    </tr>\n",
       "    <tr>\n",
       "      <th>2</th>\n",
       "      <td>Cobertura triplex no Buritis, com 240 m², 4 qu...</td>\n",
       "      <td>https://mg.olx.com.br/belo-horizonte-e-regiao/...</td>\n",
       "      <td>2023-08-03 19:29:34.161254</td>\n",
       "    </tr>\n",
       "    <tr>\n",
       "      <th>3</th>\n",
       "      <td>Apartamento à venda no Santa Lúcia - BH com 10...</td>\n",
       "      <td>https://mg.olx.com.br/belo-horizonte-e-regiao/...</td>\n",
       "      <td>2023-08-03 19:29:34.161254</td>\n",
       "    </tr>\n",
       "    <tr>\n",
       "      <th>4</th>\n",
       "      <td>Apartamento 3 quartos com elevador no Castelo</td>\n",
       "      <td>https://mg.olx.com.br/belo-horizonte-e-regiao/...</td>\n",
       "      <td>2023-08-03 19:29:34.161254</td>\n",
       "    </tr>\n",
       "  </tbody>\n",
       "</table>\n",
       "</div>"
      ],
      "text/plain": [
       "                                              titulo  \\\n",
       "0      Vendo um Otimo apartamento no bairro Planalto   \n",
       "1                     Imóvel a venda no Lourdes - BH   \n",
       "2  Cobertura triplex no Buritis, com 240 m², 4 qu...   \n",
       "3  Apartamento à venda no Santa Lúcia - BH com 10...   \n",
       "4      Apartamento 3 quartos com elevador no Castelo   \n",
       "\n",
       "                                                link  \\\n",
       "0  https://mg.olx.com.br/belo-horizonte-e-regiao/...   \n",
       "1  https://mg.olx.com.br/belo-horizonte-e-regiao/...   \n",
       "2  https://mg.olx.com.br/belo-horizonte-e-regiao/...   \n",
       "3  https://mg.olx.com.br/belo-horizonte-e-regiao/...   \n",
       "4  https://mg.olx.com.br/belo-horizonte-e-regiao/...   \n",
       "\n",
       "                        date  \n",
       "0 2023-08-03 19:29:34.161254  \n",
       "1 2023-08-03 19:29:34.161254  \n",
       "2 2023-08-03 19:29:34.161254  \n",
       "3 2023-08-03 19:29:34.161254  \n",
       "4 2023-08-03 19:29:34.161254  "
      ]
     },
     "execution_count": 31,
     "metadata": {},
     "output_type": "execute_result"
    }
   ],
   "source": [
    "df.head()"
   ]
  },
  {
   "cell_type": "code",
   "execution_count": null,
   "id": "7488faf2",
   "metadata": {},
   "outputs": [],
   "source": []
  }
 ],
 "metadata": {
  "kernelspec": {
   "display_name": "Python 3 (ipykernel)",
   "language": "python",
   "name": "python3"
  },
  "language_info": {
   "codemirror_mode": {
    "name": "ipython",
    "version": 3
   },
   "file_extension": ".py",
   "mimetype": "text/x-python",
   "name": "python",
   "nbconvert_exporter": "python",
   "pygments_lexer": "ipython3",
   "version": "3.9.13"
  }
 },
 "nbformat": 4,
 "nbformat_minor": 5
}
