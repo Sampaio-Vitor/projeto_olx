{
 "cells": [
  {
   "cell_type": "markdown",
   "id": "9d64137e",
   "metadata": {},
   "source": [
    "# UNIFICANDO BASES DE DADOS"
   ]
  },
  {
   "cell_type": "code",
   "execution_count": 21,
   "id": "2520cf3f",
   "metadata": {},
   "outputs": [],
   "source": [
    "from selenium import webdriver\n",
    "from selenium.webdriver.chrome.options import Options\n",
    "from selenium.webdriver.common.by import By\n",
    "from selenium.webdriver.support.ui import WebDriverWait\n",
    "from selenium.webdriver.support import expected_conditions as EC\n",
    "from bs4 import BeautifulSoup\n",
    "from datetime import datetime\n",
    "import pandas as pd\n",
    "import time\n",
    "options = Options()\n",
    "options.add_argument(\"--start-maximized\")\n",
    "import warnings\n",
    "warnings.filterwarnings('ignore')"
   ]
  },
  {
   "cell_type": "code",
   "execution_count": 22,
   "id": "33c94320",
   "metadata": {},
   "outputs": [],
   "source": [
    "barreiro = pd.read_csv(\"links_barreiro.csv\")\n",
    "pampulha = pd.read_csv(\"links_pampulha.csv\")\n",
    "venda_nova = pd.read_csv(\"links_venda-nova.csv\")\n",
    "zona_centro_sul = pd.read_csv(\"links_zona-centro-sul.csv\")\n",
    "zona_leste = pd.read_csv(\"links_zona-leste.csv\")\n",
    "zona_nordeste = pd.read_csv(\"links_zona-nordeste.csv\")\n",
    "zona_noroeste = pd.read_csv(\"links_zona-noroeste.csv\")\n",
    "zona_norte = pd.read_csv(\"links_zona-norte.csv\")\n",
    "zona_oeste = pd.read_csv(\"links_zona-oeste.csv\")"
   ]
  },
  {
   "cell_type": "code",
   "execution_count": 23,
   "id": "a9a98a17",
   "metadata": {},
   "outputs": [],
   "source": [
    "barreiro[\"REGION\"] = \"barreiro\"\n",
    "pampulha[\"REGION\"] = \"pampulha\"\n",
    "venda_nova[\"REGION\"] = \"venda_nova\"\n",
    "zona_centro_sul[\"REGION\"] = \"zona_centro_sul\"\n",
    "zona_leste[\"REGION\"] = \"zona_leste\"\n",
    "zona_nordeste[\"REGION\"] = \"zona_nordeste\"\n",
    "zona_noroeste[\"REGION\"] = \"zona_noroeste\"\n",
    "zona_norte[\"REGION\"] = \"zona_norte\"\n",
    "zona_oeste[\"REGION\"] = \"zona_oeste\"\n",
    "\n",
    "frames = [barreiro, pampulha, venda_nova, zona_centro_sul, zona_leste, zona_nordeste, zona_noroeste, zona_norte, zona_oeste]\n",
    "\n",
    "links_unificados = pd.concat(frames, ignore_index=True)\n",
    "\n",
    "# Para salvar o DataFrame unificado em um arquivo csv\n",
    "links_unificados.to_csv('links_unificados.csv', index=False)\n"
   ]
  },
  {
   "cell_type": "code",
   "execution_count": 24,
   "id": "05f39ca6",
   "metadata": {},
   "outputs": [],
   "source": [
    "frames = [barreiro, pampulha, venda_nova, zona_centro_sul, zona_leste, zona_nordeste, zona_noroeste, zona_norte, zona_oeste]\n",
    "\n",
    "links_unificados = pd.concat(frames, ignore_index=True)"
   ]
  },
  {
   "cell_type": "code",
   "execution_count": 5,
   "id": "03f893a5",
   "metadata": {
    "collapsed": true
   },
   "outputs": [
    {
     "ename": "NameError",
     "evalue": "name 'links_unificados' is not defined",
     "output_type": "error",
     "traceback": [
      "\u001b[1;31m---------------------------------------------------------------------------\u001b[0m",
      "\u001b[1;31mNameError\u001b[0m                                 Traceback (most recent call last)",
      "\u001b[1;32m~\\AppData\\Local\\Temp\\ipykernel_21008\\1499309687.py\u001b[0m in \u001b[0;36m<module>\u001b[1;34m\u001b[0m\n\u001b[1;32m----> 1\u001b[1;33m \u001b[0mduplicate_links\u001b[0m \u001b[1;33m=\u001b[0m \u001b[0mlinks_unificados\u001b[0m\u001b[1;33m[\u001b[0m\u001b[0mlinks_unificados\u001b[0m\u001b[1;33m.\u001b[0m\u001b[0mduplicated\u001b[0m\u001b[1;33m(\u001b[0m\u001b[1;33m[\u001b[0m\u001b[1;34m'link'\u001b[0m\u001b[1;33m]\u001b[0m\u001b[1;33m)\u001b[0m\u001b[1;33m]\u001b[0m\u001b[1;33m\u001b[0m\u001b[1;33m\u001b[0m\u001b[0m\n\u001b[0m\u001b[0;32m      2\u001b[0m \u001b[0mlen\u001b[0m\u001b[1;33m(\u001b[0m\u001b[0mduplicate_links\u001b[0m\u001b[1;33m)\u001b[0m\u001b[1;33m\u001b[0m\u001b[1;33m\u001b[0m\u001b[0m\n",
      "\u001b[1;31mNameError\u001b[0m: name 'links_unificados' is not defined"
     ]
    }
   ],
   "source": [
    "duplicate_links = links_unificados[links_unificados.duplicated(['link'])]\n",
    "len(duplicate_links)\n"
   ]
  },
  {
   "cell_type": "code",
   "execution_count": 57,
   "id": "79c22fec",
   "metadata": {},
   "outputs": [],
   "source": [
    "links_unificados.drop_duplicates(subset='link', keep=\"first\", inplace=True)"
   ]
  },
  {
   "cell_type": "code",
   "execution_count": 58,
   "id": "ea56bbdf",
   "metadata": {
    "scrolled": true
   },
   "outputs": [
    {
     "data": {
      "text/html": [
       "<div>\n",
       "<style scoped>\n",
       "    .dataframe tbody tr th:only-of-type {\n",
       "        vertical-align: middle;\n",
       "    }\n",
       "\n",
       "    .dataframe tbody tr th {\n",
       "        vertical-align: top;\n",
       "    }\n",
       "\n",
       "    .dataframe thead th {\n",
       "        text-align: right;\n",
       "    }\n",
       "</style>\n",
       "<table border=\"1\" class=\"dataframe\">\n",
       "  <thead>\n",
       "    <tr style=\"text-align: right;\">\n",
       "      <th></th>\n",
       "      <th>titulo</th>\n",
       "      <th>link</th>\n",
       "      <th>date</th>\n",
       "      <th>REGION</th>\n",
       "    </tr>\n",
       "  </thead>\n",
       "  <tbody>\n",
       "    <tr>\n",
       "      <th>0</th>\n",
       "      <td>Apartamento 03 quartos</td>\n",
       "      <td>https://mg.olx.com.br/belo-horizonte-e-regiao/...</td>\n",
       "      <td>2023-08-04 11:32:26.433154</td>\n",
       "      <td>barreiro</td>\n",
       "    </tr>\n",
       "    <tr>\n",
       "      <th>2</th>\n",
       "      <td>Apartamento à venda - Barreiro, 2 quartos - Be...</td>\n",
       "      <td>https://mg.olx.com.br/belo-horizonte-e-regiao/...</td>\n",
       "      <td>2023-08-04 11:32:26.433154</td>\n",
       "      <td>barreiro</td>\n",
       "    </tr>\n",
       "    <tr>\n",
       "      <th>4</th>\n",
       "      <td>Apartamento 02 quartos, 01 vaga à venda no Bai...</td>\n",
       "      <td>https://mg.olx.com.br/belo-horizonte-e-regiao/...</td>\n",
       "      <td>2023-08-04 11:32:26.433154</td>\n",
       "      <td>barreiro</td>\n",
       "    </tr>\n",
       "    <tr>\n",
       "      <th>6</th>\n",
       "      <td>Apartamento 03 quartos suite 02 vagas a venda ...</td>\n",
       "      <td>https://mg.olx.com.br/belo-horizonte-e-regiao/...</td>\n",
       "      <td>2023-08-04 11:32:26.433154</td>\n",
       "      <td>barreiro</td>\n",
       "    </tr>\n",
       "    <tr>\n",
       "      <th>8</th>\n",
       "      <td>Cobertura para Venda no Bairro Nova Cachoeirinha</td>\n",
       "      <td>https://mg.olx.com.br/belo-horizonte-e-regiao/...</td>\n",
       "      <td>2023-08-04 11:32:26.433154</td>\n",
       "      <td>barreiro</td>\n",
       "    </tr>\n",
       "  </tbody>\n",
       "</table>\n",
       "</div>"
      ],
      "text/plain": [
       "                                              titulo  \\\n",
       "0                            Apartamento 03 quartos    \n",
       "2  Apartamento à venda - Barreiro, 2 quartos - Be...   \n",
       "4  Apartamento 02 quartos, 01 vaga à venda no Bai...   \n",
       "6  Apartamento 03 quartos suite 02 vagas a venda ...   \n",
       "8   Cobertura para Venda no Bairro Nova Cachoeirinha   \n",
       "\n",
       "                                                link  \\\n",
       "0  https://mg.olx.com.br/belo-horizonte-e-regiao/...   \n",
       "2  https://mg.olx.com.br/belo-horizonte-e-regiao/...   \n",
       "4  https://mg.olx.com.br/belo-horizonte-e-regiao/...   \n",
       "6  https://mg.olx.com.br/belo-horizonte-e-regiao/...   \n",
       "8  https://mg.olx.com.br/belo-horizonte-e-regiao/...   \n",
       "\n",
       "                         date    REGION  \n",
       "0  2023-08-04 11:32:26.433154  barreiro  \n",
       "2  2023-08-04 11:32:26.433154  barreiro  \n",
       "4  2023-08-04 11:32:26.433154  barreiro  \n",
       "6  2023-08-04 11:32:26.433154  barreiro  \n",
       "8  2023-08-04 11:32:26.433154  barreiro  "
      ]
     },
     "execution_count": 58,
     "metadata": {},
     "output_type": "execute_result"
    }
   ],
   "source": [
    "links_unificados.head()"
   ]
  },
  {
   "cell_type": "code",
   "execution_count": 59,
   "id": "aa9b3e81",
   "metadata": {},
   "outputs": [
    {
     "data": {
      "text/plain": [
       "21131"
      ]
     },
     "execution_count": 59,
     "metadata": {},
     "output_type": "execute_result"
    }
   ],
   "source": [
    "len(links_unificados)"
   ]
  },
  {
   "cell_type": "code",
   "execution_count": 60,
   "id": "66016698",
   "metadata": {},
   "outputs": [
    {
     "data": {
      "text/plain": [
       "zona_oeste         2503\n",
       "pampulha           2502\n",
       "zona_leste         2501\n",
       "venda_nova         2500\n",
       "zona_nordeste      2500\n",
       "zona_centro_sul    2499\n",
       "zona_noroeste      2499\n",
       "zona_norte         1995\n",
       "barreiro           1632\n",
       "Name: REGION, dtype: int64"
      ]
     },
     "execution_count": 60,
     "metadata": {},
     "output_type": "execute_result"
    }
   ],
   "source": [
    "links_unificados['REGION'].value_counts()"
   ]
  },
  {
   "cell_type": "code",
   "execution_count": 6,
   "id": "0b04678f",
   "metadata": {},
   "outputs": [],
   "source": [
    "# Read the CSV into a DataFrame\n",
    "df_links = pd.read_csv('links_unificados.csv')\n",
    "\n",
    "# Drop duplicate links\n",
    "df_links.drop_duplicates(subset='link', inplace=True)\n",
    "\n",
    "# Save the updated DataFrame back to the CSV\n",
    "df_links.to_csv('links_unificados.csv', index=False)"
   ]
  },
  {
   "cell_type": "markdown",
   "id": "8bd6d78e",
   "metadata": {},
   "source": [
    "##### Dados equilibrados!"
   ]
  },
  {
   "cell_type": "markdown",
   "id": "2ca1bb63",
   "metadata": {},
   "source": [
    "### Criando o algoritmo de scrape de informações do apartamento"
   ]
  },
  {
   "cell_type": "code",
   "execution_count": 14,
   "id": "d608461e",
   "metadata": {},
   "outputs": [
    {
     "name": "stderr",
     "output_type": "stream",
     "text": [
      "\r",
      "Scraping:   0%|                                                                              | 0/21131 [00:00<?, ?it/s]"
     ]
    },
    {
     "name": "stdout",
     "output_type": "stream",
     "text": [
      "Scraping link 1/21131\n"
     ]
    },
    {
     "name": "stderr",
     "output_type": "stream",
     "text": [
      "\r",
      "Scraping:   0%|                                                                  | 1/21131 [00:36<213:54:21, 36.44s/it]"
     ]
    },
    {
     "name": "stdout",
     "output_type": "stream",
     "text": [
      "                     TITLE                                               LINK  \\\n",
      "0  Apartamento 03 quartos   https://mg.olx.com.br/belo-horizonte-e-regiao/...   \n",
      "\n",
      "  DATE_SCRAPE            CITY       CEP      NEIGHBORHOOD   CONDO     TAX  \\\n",
      "0  2023-08-05  Belo Horizonte  30662050  Tirol (Barreiro)  R$ 350  R$ 120   \n",
      "\n",
      "   AREA ROOMS_NO BATH_NO PARKING_SPOTS  \\\n",
      "0  67m²        3       2             1   \n",
      "\n",
      "                                   APARTMENT_DETAILS   PRICE    REGION  \n",
      "0  Área de serviço, Armários na cozinha, Armários...  260000  barreiro  \n",
      "Scraping link 2/21131\n"
     ]
    },
    {
     "name": "stderr",
     "output_type": "stream",
     "text": [
      "\r",
      "Scraping:   0%|                                                                  | 2/21131 [00:40<103:36:26, 17.65s/it]"
     ]
    },
    {
     "name": "stdout",
     "output_type": "stream",
     "text": [
      "                     TITLE                                               LINK  \\\n",
      "0  Apartamento 03 quartos   https://mg.olx.com.br/belo-horizonte-e-regiao/...   \n",
      "1                    Apto   https://mg.olx.com.br/belo-horizonte-e-regiao/...   \n",
      "\n",
      "  DATE_SCRAPE            CITY       CEP            NEIGHBORHOOD   CONDO  \\\n",
      "0  2023-08-05  Belo Horizonte  30662050        Tirol (Barreiro)  R$ 350   \n",
      "1  2023-08-05  Belo Horizonte  30620250  Milionários (Barreiro)  R$ 250   \n",
      "\n",
      "      TAX  AREA ROOMS_NO BATH_NO PARKING_SPOTS  \\\n",
      "0  R$ 120  67m²        3       2             1   \n",
      "1    R$ 0  66m²        3       1             1   \n",
      "\n",
      "                                   APARTMENT_DETAILS   PRICE    REGION  \n",
      "0  Área de serviço, Armários na cozinha, Armários...  260000  barreiro  \n",
      "1  Área de serviço, Armários na cozinha, Armários...  239990  barreiro  \n",
      "Scraping link 3/21131\n"
     ]
    },
    {
     "name": "stderr",
     "output_type": "stream",
     "text": [
      "\r",
      "Scraping:   0%|                                                                   | 3/21131 [00:45<68:28:23, 11.67s/it]"
     ]
    },
    {
     "name": "stdout",
     "output_type": "stream",
     "text": [
      "                                               TITLE  \\\n",
      "0                            Apartamento 03 quartos    \n",
      "1                                              Apto    \n",
      "2  Apartamento à venda - Barreiro, 2 quartos - Be...   \n",
      "\n",
      "                                                LINK DATE_SCRAPE  \\\n",
      "0  https://mg.olx.com.br/belo-horizonte-e-regiao/...  2023-08-05   \n",
      "1  https://mg.olx.com.br/belo-horizonte-e-regiao/...  2023-08-05   \n",
      "2  https://mg.olx.com.br/belo-horizonte-e-regiao/...  2023-08-05   \n",
      "\n",
      "             CITY       CEP            NEIGHBORHOOD   CONDO       TAX  AREA  \\\n",
      "0  Belo Horizonte  30662050        Tirol (Barreiro)  R$ 350    R$ 120  67m²   \n",
      "1  Belo Horizonte  30620250  Milionários (Barreiro)  R$ 250      R$ 0  66m²   \n",
      "2  Belo Horizonte  30640150                Barreiro  R$ 300  R$ 2.402  56m²   \n",
      "\n",
      "  ROOMS_NO BATH_NO PARKING_SPOTS  \\\n",
      "0        3       2             1   \n",
      "1        3       1             1   \n",
      "2        2       1             1   \n",
      "\n",
      "                                   APARTMENT_DETAILS   PRICE    REGION  \n",
      "0  Área de serviço, Armários na cozinha, Armários...  260000  barreiro  \n",
      "1  Área de serviço, Armários na cozinha, Armários...  239990  barreiro  \n",
      "2                                    Área de serviço  310000  barreiro  \n",
      "Scraping link 4/21131\n"
     ]
    },
    {
     "name": "stderr",
     "output_type": "stream",
     "text": [
      "\r",
      "Scraping:   0%|                                                                   | 4/21131 [00:49<51:14:27,  8.73s/it]"
     ]
    },
    {
     "name": "stdout",
     "output_type": "stream",
     "text": [
      "                                               TITLE  \\\n",
      "0                            Apartamento 03 quartos    \n",
      "1                                              Apto    \n",
      "2  Apartamento à venda - Barreiro, 2 quartos - Be...   \n",
      "3  Apartamento à Venda - Palmares, 3 Quartos,  85 m2   \n",
      "\n",
      "                                                LINK DATE_SCRAPE  \\\n",
      "0  https://mg.olx.com.br/belo-horizonte-e-regiao/...  2023-08-05   \n",
      "1  https://mg.olx.com.br/belo-horizonte-e-regiao/...  2023-08-05   \n",
      "2  https://mg.olx.com.br/belo-horizonte-e-regiao/...  2023-08-05   \n",
      "3  https://mg.olx.com.br/belo-horizonte-e-regiao/...  2023-08-05   \n",
      "\n",
      "             CITY       CEP            NEIGHBORHOOD   CONDO       TAX  AREA  \\\n",
      "0  Belo Horizonte  30662050        Tirol (Barreiro)  R$ 350    R$ 120  67m²   \n",
      "1  Belo Horizonte  30620250  Milionários (Barreiro)  R$ 250      R$ 0  66m²   \n",
      "2  Belo Horizonte  30640150                Barreiro  R$ 300  R$ 2.402  56m²   \n",
      "3  Belo Horizonte  31155292              Santa Cruz  R$ 900    R$ 270  85m²   \n",
      "\n",
      "  ROOMS_NO BATH_NO PARKING_SPOTS  \\\n",
      "0        3       2             1   \n",
      "1        3       1             1   \n",
      "2        2       1             1   \n",
      "3        3       2             2   \n",
      "\n",
      "                                   APARTMENT_DETAILS   PRICE    REGION  \n",
      "0  Área de serviço, Armários na cozinha, Armários...  260000  barreiro  \n",
      "1  Área de serviço, Armários na cozinha, Armários...  239990  barreiro  \n",
      "2                                    Área de serviço  310000  barreiro  \n",
      "3                             Churrasqueira, Piscina  620000  barreiro  \n",
      "Scraping link 5/21131\n"
     ]
    },
    {
     "name": "stderr",
     "output_type": "stream",
     "text": [
      "\r",
      "Scraping:   0%|                                                                   | 5/21131 [00:54<42:11:58,  7.19s/it]"
     ]
    },
    {
     "name": "stdout",
     "output_type": "stream",
     "text": [
      "                                               TITLE  \\\n",
      "0                            Apartamento 03 quartos    \n",
      "1                                              Apto    \n",
      "2  Apartamento à venda - Barreiro, 2 quartos - Be...   \n",
      "3  Apartamento à Venda - Palmares, 3 Quartos,  85 m2   \n",
      "4  Apartamento 02 quartos, 01 vaga à venda no Bai...   \n",
      "\n",
      "                                                LINK DATE_SCRAPE  \\\n",
      "0  https://mg.olx.com.br/belo-horizonte-e-regiao/...  2023-08-05   \n",
      "1  https://mg.olx.com.br/belo-horizonte-e-regiao/...  2023-08-05   \n",
      "2  https://mg.olx.com.br/belo-horizonte-e-regiao/...  2023-08-05   \n",
      "3  https://mg.olx.com.br/belo-horizonte-e-regiao/...  2023-08-05   \n",
      "4  https://mg.olx.com.br/belo-horizonte-e-regiao/...  2023-08-05   \n",
      "\n",
      "             CITY       CEP            NEIGHBORHOOD   CONDO       TAX  AREA  \\\n",
      "0  Belo Horizonte  30662050        Tirol (Barreiro)  R$ 350    R$ 120  67m²   \n",
      "1  Belo Horizonte  30620250  Milionários (Barreiro)  R$ 250      R$ 0  66m²   \n",
      "2  Belo Horizonte  30640150                Barreiro  R$ 300  R$ 2.402  56m²   \n",
      "3  Belo Horizonte  31155292              Santa Cruz  R$ 900    R$ 270  85m²   \n",
      "4  Belo Horizonte  30620070  Milionários (Barreiro)  R$ 290    R$ 400  47m²   \n",
      "\n",
      "  ROOMS_NO BATH_NO PARKING_SPOTS  \\\n",
      "0        3       2             1   \n",
      "1        3       1             1   \n",
      "2        2       1             1   \n",
      "3        3       2             2   \n",
      "4        2       1             1   \n",
      "\n",
      "                                   APARTMENT_DETAILS   PRICE    REGION  \n",
      "0  Área de serviço, Armários na cozinha, Armários...  260000  barreiro  \n",
      "1  Área de serviço, Armários na cozinha, Armários...  239990  barreiro  \n",
      "2                                    Área de serviço  310000  barreiro  \n",
      "3                             Churrasqueira, Piscina  620000  barreiro  \n",
      "4                         Área de serviço, Mobiliado  209900  barreiro  \n",
      "Scraping link 6/21131\n"
     ]
    },
    {
     "name": "stderr",
     "output_type": "stream",
     "text": [
      "\r",
      "Scraping:   0%|                                                                   | 6/21131 [00:58<35:59:13,  6.13s/it]"
     ]
    },
    {
     "name": "stdout",
     "output_type": "stream",
     "text": [
      "                                               TITLE  \\\n",
      "0                            Apartamento 03 quartos    \n",
      "1                                              Apto    \n",
      "2  Apartamento à venda - Barreiro, 2 quartos - Be...   \n",
      "3  Apartamento à Venda - Palmares, 3 Quartos,  85 m2   \n",
      "4  Apartamento 02 quartos, 01 vaga à venda no Bai...   \n",
      "\n",
      "                                                LINK DATE_SCRAPE  \\\n",
      "0  https://mg.olx.com.br/belo-horizonte-e-regiao/...  2023-08-05   \n",
      "1  https://mg.olx.com.br/belo-horizonte-e-regiao/...  2023-08-05   \n",
      "2  https://mg.olx.com.br/belo-horizonte-e-regiao/...  2023-08-05   \n",
      "3  https://mg.olx.com.br/belo-horizonte-e-regiao/...  2023-08-05   \n",
      "4  https://mg.olx.com.br/belo-horizonte-e-regiao/...  2023-08-05   \n",
      "\n",
      "             CITY       CEP            NEIGHBORHOOD   CONDO       TAX  AREA  \\\n",
      "0  Belo Horizonte  30662050        Tirol (Barreiro)  R$ 350    R$ 120  67m²   \n",
      "1  Belo Horizonte  30620250  Milionários (Barreiro)  R$ 250      R$ 0  66m²   \n",
      "2  Belo Horizonte  30640150                Barreiro  R$ 300  R$ 2.402  56m²   \n",
      "3  Belo Horizonte  31155292              Santa Cruz  R$ 900    R$ 270  85m²   \n",
      "4  Belo Horizonte  30620070  Milionários (Barreiro)  R$ 290    R$ 400  47m²   \n",
      "\n",
      "  ROOMS_NO BATH_NO PARKING_SPOTS  \\\n",
      "0        3       2             1   \n",
      "1        3       1             1   \n",
      "2        2       1             1   \n",
      "3        3       2             2   \n",
      "4        2       1             1   \n",
      "\n",
      "                                   APARTMENT_DETAILS   PRICE    REGION  \n",
      "0  Área de serviço, Armários na cozinha, Armários...  260000  barreiro  \n",
      "1  Área de serviço, Armários na cozinha, Armários...  239990  barreiro  \n",
      "2                                    Área de serviço  310000  barreiro  \n",
      "3                             Churrasqueira, Piscina  620000  barreiro  \n",
      "4                         Área de serviço, Mobiliado  209900  barreiro  \n",
      "Scraping link 7/21131\n"
     ]
    },
    {
     "name": "stderr",
     "output_type": "stream",
     "text": [
      "\r",
      "Scraping:   0%|                                                                   | 7/21131 [01:04<36:57:29,  6.30s/it]"
     ]
    },
    {
     "name": "stdout",
     "output_type": "stream",
     "text": [
      "                                               TITLE  \\\n",
      "0                            Apartamento 03 quartos    \n",
      "1                                              Apto    \n",
      "2  Apartamento à venda - Barreiro, 2 quartos - Be...   \n",
      "3  Apartamento à Venda - Palmares, 3 Quartos,  85 m2   \n",
      "4  Apartamento 02 quartos, 01 vaga à venda no Bai...   \n",
      "\n",
      "                                                LINK DATE_SCRAPE  \\\n",
      "0  https://mg.olx.com.br/belo-horizonte-e-regiao/...  2023-08-05   \n",
      "1  https://mg.olx.com.br/belo-horizonte-e-regiao/...  2023-08-05   \n",
      "2  https://mg.olx.com.br/belo-horizonte-e-regiao/...  2023-08-05   \n",
      "3  https://mg.olx.com.br/belo-horizonte-e-regiao/...  2023-08-05   \n",
      "4  https://mg.olx.com.br/belo-horizonte-e-regiao/...  2023-08-05   \n",
      "\n",
      "             CITY       CEP            NEIGHBORHOOD   CONDO       TAX  AREA  \\\n",
      "0  Belo Horizonte  30662050        Tirol (Barreiro)  R$ 350    R$ 120  67m²   \n",
      "1  Belo Horizonte  30620250  Milionários (Barreiro)  R$ 250      R$ 0  66m²   \n",
      "2  Belo Horizonte  30640150                Barreiro  R$ 300  R$ 2.402  56m²   \n",
      "3  Belo Horizonte  31155292              Santa Cruz  R$ 900    R$ 270  85m²   \n",
      "4  Belo Horizonte  30620070  Milionários (Barreiro)  R$ 290    R$ 400  47m²   \n",
      "\n",
      "  ROOMS_NO BATH_NO PARKING_SPOTS  \\\n",
      "0        3       2             1   \n",
      "1        3       1             1   \n",
      "2        2       1             1   \n",
      "3        3       2             2   \n",
      "4        2       1             1   \n",
      "\n",
      "                                   APARTMENT_DETAILS   PRICE    REGION  \n",
      "0  Área de serviço, Armários na cozinha, Armários...  260000  barreiro  \n",
      "1  Área de serviço, Armários na cozinha, Armários...  239990  barreiro  \n",
      "2                                    Área de serviço  310000  barreiro  \n",
      "3                             Churrasqueira, Piscina  620000  barreiro  \n",
      "4                         Área de serviço, Mobiliado  209900  barreiro  \n",
      "Scraping link 8/21131\n"
     ]
    },
    {
     "name": "stderr",
     "output_type": "stream",
     "text": [
      "Scraping:   0%|                                                                   | 8/21131 [01:09<50:53:09,  8.67s/it]"
     ]
    },
    {
     "name": "stdout",
     "output_type": "stream",
     "text": [
      "                                               TITLE  \\\n",
      "0                            Apartamento 03 quartos    \n",
      "1                                              Apto    \n",
      "2  Apartamento à venda - Barreiro, 2 quartos - Be...   \n",
      "3  Apartamento à Venda - Palmares, 3 Quartos,  85 m2   \n",
      "4  Apartamento 02 quartos, 01 vaga à venda no Bai...   \n",
      "\n",
      "                                                LINK DATE_SCRAPE  \\\n",
      "0  https://mg.olx.com.br/belo-horizonte-e-regiao/...  2023-08-05   \n",
      "1  https://mg.olx.com.br/belo-horizonte-e-regiao/...  2023-08-05   \n",
      "2  https://mg.olx.com.br/belo-horizonte-e-regiao/...  2023-08-05   \n",
      "3  https://mg.olx.com.br/belo-horizonte-e-regiao/...  2023-08-05   \n",
      "4  https://mg.olx.com.br/belo-horizonte-e-regiao/...  2023-08-05   \n",
      "\n",
      "             CITY       CEP            NEIGHBORHOOD   CONDO       TAX  AREA  \\\n",
      "0  Belo Horizonte  30662050        Tirol (Barreiro)  R$ 350    R$ 120  67m²   \n",
      "1  Belo Horizonte  30620250  Milionários (Barreiro)  R$ 250      R$ 0  66m²   \n",
      "2  Belo Horizonte  30640150                Barreiro  R$ 300  R$ 2.402  56m²   \n",
      "3  Belo Horizonte  31155292              Santa Cruz  R$ 900    R$ 270  85m²   \n",
      "4  Belo Horizonte  30620070  Milionários (Barreiro)  R$ 290    R$ 400  47m²   \n",
      "\n",
      "  ROOMS_NO BATH_NO PARKING_SPOTS  \\\n",
      "0        3       2             1   \n",
      "1        3       1             1   \n",
      "2        2       1             1   \n",
      "3        3       2             2   \n",
      "4        2       1             1   \n",
      "\n",
      "                                   APARTMENT_DETAILS   PRICE    REGION  \n",
      "0  Área de serviço, Armários na cozinha, Armários...  260000  barreiro  \n",
      "1  Área de serviço, Armários na cozinha, Armários...  239990  barreiro  \n",
      "2                                    Área de serviço  310000  barreiro  \n",
      "3                             Churrasqueira, Piscina  620000  barreiro  \n",
      "4                         Área de serviço, Mobiliado  209900  barreiro  \n",
      "Scraping link 9/21131\n"
     ]
    },
    {
     "name": "stderr",
     "output_type": "stream",
     "text": [
      "\n"
     ]
    },
    {
     "ename": "NoSuchWindowException",
     "evalue": "Message: no such window: target window already closed\nfrom unknown error: web view not found\n  (Session info: chrome=115.0.5790.111)\nStacktrace:\nBacktrace:\n\tGetHandleVerifier [0x0065A813+48355]\n\t(No symbol) [0x005EC4B1]\n\t(No symbol) [0x004F5358]\n\t(No symbol) [0x004DD293]\n\t(No symbol) [0x0053E37B]\n\t(No symbol) [0x0054C473]\n\t(No symbol) [0x0053A536]\n\t(No symbol) [0x005182DC]\n\t(No symbol) [0x005193DD]\n\tGetHandleVerifier [0x008BAABD+2539405]\n\tGetHandleVerifier [0x008FA78F+2800735]\n\tGetHandleVerifier [0x008F456C+2775612]\n\tGetHandleVerifier [0x006E51E0+616112]\n\t(No symbol) [0x005F5F8C]\n\t(No symbol) [0x005F2328]\n\t(No symbol) [0x005F240B]\n\t(No symbol) [0x005E4FF7]\n\tBaseThreadInitThunk [0x766A7D59+25]\n\tRtlInitializeExceptionChain [0x76F5B79B+107]\n\tRtlClearBits [0x76F5B71F+191]\n",
     "output_type": "error",
     "traceback": [
      "\u001b[1;31m---------------------------------------------------------------------------\u001b[0m",
      "\u001b[1;31mNoSuchWindowException\u001b[0m                     Traceback (most recent call last)",
      "\u001b[1;32m~\\AppData\\Local\\Temp\\ipykernel_21008\\4006017310.py\u001b[0m in \u001b[0;36m<module>\u001b[1;34m\u001b[0m\n\u001b[0;32m     60\u001b[0m     \u001b[0murl\u001b[0m \u001b[1;33m=\u001b[0m \u001b[0mrow\u001b[0m\u001b[1;33m[\u001b[0m\u001b[1;36m1\u001b[0m\u001b[1;33m]\u001b[0m\u001b[1;33m[\u001b[0m\u001b[1;34m'link'\u001b[0m\u001b[1;33m]\u001b[0m\u001b[1;33m\u001b[0m\u001b[1;33m\u001b[0m\u001b[0m\n\u001b[0;32m     61\u001b[0m     \u001b[0mregion\u001b[0m \u001b[1;33m=\u001b[0m \u001b[0mrow\u001b[0m\u001b[1;33m[\u001b[0m\u001b[1;36m1\u001b[0m\u001b[1;33m]\u001b[0m\u001b[1;33m[\u001b[0m\u001b[1;34m'REGION'\u001b[0m\u001b[1;33m]\u001b[0m   \u001b[1;31m# Extracting REGION value\u001b[0m\u001b[1;33m\u001b[0m\u001b[1;33m\u001b[0m\u001b[0m\n\u001b[1;32m---> 62\u001b[1;33m     \u001b[0mdata\u001b[0m \u001b[1;33m=\u001b[0m \u001b[0mfetch_data_from_ad\u001b[0m\u001b[1;33m(\u001b[0m\u001b[0mdriver\u001b[0m\u001b[1;33m,\u001b[0m \u001b[0murl\u001b[0m\u001b[1;33m)\u001b[0m\u001b[1;33m\u001b[0m\u001b[1;33m\u001b[0m\u001b[0m\n\u001b[0m\u001b[0;32m     63\u001b[0m     \u001b[0mdata\u001b[0m\u001b[1;33m[\u001b[0m\u001b[1;34m'REGION'\u001b[0m\u001b[1;33m]\u001b[0m \u001b[1;33m=\u001b[0m \u001b[0mregion\u001b[0m     \u001b[1;31m# Adding REGION to the data dictionary\u001b[0m\u001b[1;33m\u001b[0m\u001b[1;33m\u001b[0m\u001b[0m\n\u001b[0;32m     64\u001b[0m     \u001b[0mdf_detailed\u001b[0m \u001b[1;33m=\u001b[0m \u001b[0mdf_detailed\u001b[0m\u001b[1;33m.\u001b[0m\u001b[0mappend\u001b[0m\u001b[1;33m(\u001b[0m\u001b[0mdata\u001b[0m\u001b[1;33m,\u001b[0m \u001b[0mignore_index\u001b[0m\u001b[1;33m=\u001b[0m\u001b[1;32mTrue\u001b[0m\u001b[1;33m)\u001b[0m\u001b[1;33m\u001b[0m\u001b[1;33m\u001b[0m\u001b[0m\n",
      "\u001b[1;32m~\\AppData\\Local\\Temp\\ipykernel_21008\\4006017310.py\u001b[0m in \u001b[0;36mfetch_data_from_ad\u001b[1;34m(driver, url)\u001b[0m\n\u001b[0;32m     19\u001b[0m \u001b[1;33m\u001b[0m\u001b[0m\n\u001b[0;32m     20\u001b[0m \u001b[1;32mdef\u001b[0m \u001b[0mfetch_data_from_ad\u001b[0m\u001b[1;33m(\u001b[0m\u001b[0mdriver\u001b[0m\u001b[1;33m,\u001b[0m \u001b[0murl\u001b[0m\u001b[1;33m)\u001b[0m\u001b[1;33m:\u001b[0m\u001b[1;33m\u001b[0m\u001b[1;33m\u001b[0m\u001b[0m\n\u001b[1;32m---> 21\u001b[1;33m     \u001b[0mdriver\u001b[0m\u001b[1;33m.\u001b[0m\u001b[0mget\u001b[0m\u001b[1;33m(\u001b[0m\u001b[0murl\u001b[0m\u001b[1;33m)\u001b[0m\u001b[1;33m\u001b[0m\u001b[1;33m\u001b[0m\u001b[0m\n\u001b[0m\u001b[0;32m     22\u001b[0m     \u001b[0mWebDriverWait\u001b[0m\u001b[1;33m(\u001b[0m\u001b[0mdriver\u001b[0m\u001b[1;33m,\u001b[0m \u001b[1;36m30\u001b[0m\u001b[1;33m)\u001b[0m\u001b[1;33m.\u001b[0m\u001b[0muntil\u001b[0m\u001b[1;33m(\u001b[0m\u001b[0mEC\u001b[0m\u001b[1;33m.\u001b[0m\u001b[0mpresence_of_element_located\u001b[0m\u001b[1;33m(\u001b[0m\u001b[1;33m(\u001b[0m\u001b[0mBy\u001b[0m\u001b[1;33m.\u001b[0m\u001b[0mCSS_SELECTOR\u001b[0m\u001b[1;33m,\u001b[0m \u001b[1;34m'h1[class=\"ad__sc-45jt43-0 htAiPK sc-hSdWYo bYQcLm\"]'\u001b[0m\u001b[1;33m)\u001b[0m\u001b[1;33m)\u001b[0m\u001b[1;33m)\u001b[0m\u001b[1;33m\u001b[0m\u001b[1;33m\u001b[0m\u001b[0m\n\u001b[0;32m     23\u001b[0m     \u001b[0msoup\u001b[0m \u001b[1;33m=\u001b[0m \u001b[0mBeautifulSoup\u001b[0m\u001b[1;33m(\u001b[0m\u001b[0mdriver\u001b[0m\u001b[1;33m.\u001b[0m\u001b[0mpage_source\u001b[0m\u001b[1;33m,\u001b[0m \u001b[1;34m'html.parser'\u001b[0m\u001b[1;33m)\u001b[0m\u001b[1;33m\u001b[0m\u001b[1;33m\u001b[0m\u001b[0m\n",
      "\u001b[1;32m~\\anaconda3\\lib\\site-packages\\selenium\\webdriver\\remote\\webdriver.py\u001b[0m in \u001b[0;36mget\u001b[1;34m(self, url)\u001b[0m\n\u001b[0;32m    353\u001b[0m     \u001b[1;32mdef\u001b[0m \u001b[0mget\u001b[0m\u001b[1;33m(\u001b[0m\u001b[0mself\u001b[0m\u001b[1;33m,\u001b[0m \u001b[0murl\u001b[0m\u001b[1;33m:\u001b[0m \u001b[0mstr\u001b[0m\u001b[1;33m)\u001b[0m \u001b[1;33m->\u001b[0m \u001b[1;32mNone\u001b[0m\u001b[1;33m:\u001b[0m\u001b[1;33m\u001b[0m\u001b[1;33m\u001b[0m\u001b[0m\n\u001b[0;32m    354\u001b[0m         \u001b[1;34m\"\"\"Loads a web page in the current browser session.\"\"\"\u001b[0m\u001b[1;33m\u001b[0m\u001b[1;33m\u001b[0m\u001b[0m\n\u001b[1;32m--> 355\u001b[1;33m         \u001b[0mself\u001b[0m\u001b[1;33m.\u001b[0m\u001b[0mexecute\u001b[0m\u001b[1;33m(\u001b[0m\u001b[0mCommand\u001b[0m\u001b[1;33m.\u001b[0m\u001b[0mGET\u001b[0m\u001b[1;33m,\u001b[0m \u001b[1;33m{\u001b[0m\u001b[1;34m\"url\"\u001b[0m\u001b[1;33m:\u001b[0m \u001b[0murl\u001b[0m\u001b[1;33m}\u001b[0m\u001b[1;33m)\u001b[0m\u001b[1;33m\u001b[0m\u001b[1;33m\u001b[0m\u001b[0m\n\u001b[0m\u001b[0;32m    356\u001b[0m \u001b[1;33m\u001b[0m\u001b[0m\n\u001b[0;32m    357\u001b[0m     \u001b[1;33m@\u001b[0m\u001b[0mproperty\u001b[0m\u001b[1;33m\u001b[0m\u001b[1;33m\u001b[0m\u001b[0m\n",
      "\u001b[1;32m~\\anaconda3\\lib\\site-packages\\selenium\\webdriver\\remote\\webdriver.py\u001b[0m in \u001b[0;36mexecute\u001b[1;34m(self, driver_command, params)\u001b[0m\n\u001b[0;32m    344\u001b[0m         \u001b[0mresponse\u001b[0m \u001b[1;33m=\u001b[0m \u001b[0mself\u001b[0m\u001b[1;33m.\u001b[0m\u001b[0mcommand_executor\u001b[0m\u001b[1;33m.\u001b[0m\u001b[0mexecute\u001b[0m\u001b[1;33m(\u001b[0m\u001b[0mdriver_command\u001b[0m\u001b[1;33m,\u001b[0m \u001b[0mparams\u001b[0m\u001b[1;33m)\u001b[0m\u001b[1;33m\u001b[0m\u001b[1;33m\u001b[0m\u001b[0m\n\u001b[0;32m    345\u001b[0m         \u001b[1;32mif\u001b[0m \u001b[0mresponse\u001b[0m\u001b[1;33m:\u001b[0m\u001b[1;33m\u001b[0m\u001b[1;33m\u001b[0m\u001b[0m\n\u001b[1;32m--> 346\u001b[1;33m             \u001b[0mself\u001b[0m\u001b[1;33m.\u001b[0m\u001b[0merror_handler\u001b[0m\u001b[1;33m.\u001b[0m\u001b[0mcheck_response\u001b[0m\u001b[1;33m(\u001b[0m\u001b[0mresponse\u001b[0m\u001b[1;33m)\u001b[0m\u001b[1;33m\u001b[0m\u001b[1;33m\u001b[0m\u001b[0m\n\u001b[0m\u001b[0;32m    347\u001b[0m             \u001b[0mresponse\u001b[0m\u001b[1;33m[\u001b[0m\u001b[1;34m\"value\"\u001b[0m\u001b[1;33m]\u001b[0m \u001b[1;33m=\u001b[0m \u001b[0mself\u001b[0m\u001b[1;33m.\u001b[0m\u001b[0m_unwrap_value\u001b[0m\u001b[1;33m(\u001b[0m\u001b[0mresponse\u001b[0m\u001b[1;33m.\u001b[0m\u001b[0mget\u001b[0m\u001b[1;33m(\u001b[0m\u001b[1;34m\"value\"\u001b[0m\u001b[1;33m,\u001b[0m \u001b[1;32mNone\u001b[0m\u001b[1;33m)\u001b[0m\u001b[1;33m)\u001b[0m\u001b[1;33m\u001b[0m\u001b[1;33m\u001b[0m\u001b[0m\n\u001b[0;32m    348\u001b[0m             \u001b[1;32mreturn\u001b[0m \u001b[0mresponse\u001b[0m\u001b[1;33m\u001b[0m\u001b[1;33m\u001b[0m\u001b[0m\n",
      "\u001b[1;32m~\\anaconda3\\lib\\site-packages\\selenium\\webdriver\\remote\\errorhandler.py\u001b[0m in \u001b[0;36mcheck_response\u001b[1;34m(self, response)\u001b[0m\n\u001b[0;32m    243\u001b[0m                 \u001b[0malert_text\u001b[0m \u001b[1;33m=\u001b[0m \u001b[0mvalue\u001b[0m\u001b[1;33m[\u001b[0m\u001b[1;34m\"alert\"\u001b[0m\u001b[1;33m]\u001b[0m\u001b[1;33m.\u001b[0m\u001b[0mget\u001b[0m\u001b[1;33m(\u001b[0m\u001b[1;34m\"text\"\u001b[0m\u001b[1;33m)\u001b[0m\u001b[1;33m\u001b[0m\u001b[1;33m\u001b[0m\u001b[0m\n\u001b[0;32m    244\u001b[0m             \u001b[1;32mraise\u001b[0m \u001b[0mexception_class\u001b[0m\u001b[1;33m(\u001b[0m\u001b[0mmessage\u001b[0m\u001b[1;33m,\u001b[0m \u001b[0mscreen\u001b[0m\u001b[1;33m,\u001b[0m \u001b[0mstacktrace\u001b[0m\u001b[1;33m,\u001b[0m \u001b[0malert_text\u001b[0m\u001b[1;33m)\u001b[0m  \u001b[1;31m# type: ignore[call-arg]  # mypy is not smart enough here\u001b[0m\u001b[1;33m\u001b[0m\u001b[1;33m\u001b[0m\u001b[0m\n\u001b[1;32m--> 245\u001b[1;33m         \u001b[1;32mraise\u001b[0m \u001b[0mexception_class\u001b[0m\u001b[1;33m(\u001b[0m\u001b[0mmessage\u001b[0m\u001b[1;33m,\u001b[0m \u001b[0mscreen\u001b[0m\u001b[1;33m,\u001b[0m \u001b[0mstacktrace\u001b[0m\u001b[1;33m)\u001b[0m\u001b[1;33m\u001b[0m\u001b[1;33m\u001b[0m\u001b[0m\n\u001b[0m",
      "\u001b[1;31mNoSuchWindowException\u001b[0m: Message: no such window: target window already closed\nfrom unknown error: web view not found\n  (Session info: chrome=115.0.5790.111)\nStacktrace:\nBacktrace:\n\tGetHandleVerifier [0x0065A813+48355]\n\t(No symbol) [0x005EC4B1]\n\t(No symbol) [0x004F5358]\n\t(No symbol) [0x004DD293]\n\t(No symbol) [0x0053E37B]\n\t(No symbol) [0x0054C473]\n\t(No symbol) [0x0053A536]\n\t(No symbol) [0x005182DC]\n\t(No symbol) [0x005193DD]\n\tGetHandleVerifier [0x008BAABD+2539405]\n\tGetHandleVerifier [0x008FA78F+2800735]\n\tGetHandleVerifier [0x008F456C+2775612]\n\tGetHandleVerifier [0x006E51E0+616112]\n\t(No symbol) [0x005F5F8C]\n\t(No symbol) [0x005F2328]\n\t(No symbol) [0x005F240B]\n\t(No symbol) [0x005E4FF7]\n\tBaseThreadInitThunk [0x766A7D59+25]\n\tRtlInitializeExceptionChain [0x76F5B79B+107]\n\tRtlClearBits [0x76F5B71F+191]\n"
     ]
    }
   ],
   "source": [
    "from selenium import webdriver\n",
    "from selenium.webdriver.chrome.options import Options\n",
    "from selenium.webdriver.common.by import By\n",
    "from selenium.webdriver.support.ui import WebDriverWait\n",
    "from selenium.webdriver.support import expected_conditions as EC\n",
    "from bs4 import BeautifulSoup\n",
    "from datetime import datetime\n",
    "import pandas as pd\n",
    "import time\n",
    "options = Options()\n",
    "options.add_argument(\"--start-maximized\")\n",
    "import warnings\n",
    "warnings.filterwarnings('ignore')\n",
    "from datetime import datetime\n",
    "import re\n",
    "from tqdm import tqdm\n",
    "\n",
    "\n",
    "\n",
    "def fetch_data_from_ad(driver, url):\n",
    "    driver.get(url)\n",
    "    WebDriverWait(driver, 30).until(EC.presence_of_element_located((By.CSS_SELECTOR, 'h1[class=\"ad__sc-45jt43-0 htAiPK sc-hSdWYo bYQcLm\"]')))\n",
    "    soup = BeautifulSoup(driver.page_source, 'html.parser')\n",
    "    \n",
    "    def get_text_by_index(elements, index, default='N/A'):\n",
    "        return elements[index].text if len(elements) > index else default\n",
    "    \n",
    "    all_spans = soup.find_all('span', {'class': 'ad__sc-1f2ug0x-1 cpGpXB sc-hSdWYo gwYTWo'})\n",
    "    details = soup.find('span', text=re.compile('Detalhes do imóvel'))\n",
    "    rooms_elem = soup.find('span', text='Quartos')\n",
    "    rooms_no = rooms_elem.find_next_sibling('div').a.text if rooms_elem and rooms_elem.find_next_sibling('div') else 'N/A'\n",
    "\n",
    "    data = {\n",
    "        'TITLE': soup.find('h1', {'class': 'ad__sc-45jt43-0 htAiPK sc-hSdWYo bYQcLm'}).text,\n",
    "        'LINK': url,\n",
    "        'DATE_SCRAPE': datetime.today().strftime('%Y-%m-%d'),\n",
    "        'CEP': get_text_by_index(all_spans, 0),\n",
    "        'CITY': get_text_by_index(all_spans, 1),\n",
    "        'NEIGHBORHOOD': get_text_by_index(all_spans, 2),\n",
    "        'CONDO': get_text_by_index(all_spans, 4),\n",
    "        'TAX': get_text_by_index(all_spans, 5),\n",
    "        'AREA': get_text_by_index(all_spans, 6),\n",
    "        'ROOMS_NO': rooms_no,\n",
    "        'BATH_NO': get_text_by_index(all_spans, 7),\n",
    "        'PARKING_SPOTS': get_text_by_index(all_spans, 8),\n",
    "        'APARTMENT_DETAILS': details.find_next_sibling().text if details and details.find_next_sibling() else 'N/A',\n",
    "        'PRICE': int(get_text_by_index(soup.find_all('h2', {'class': 'ad__sc-12l420o-1 haeKsn sc-hSdWYo grMlBs'}), 1).replace('.', ''))\n",
    "    }\n",
    "\n",
    "    return data\n",
    "\n",
    "df_detailed = pd.DataFrame()\n",
    "\n",
    "df_links = pd.read_csv('links_unificados.csv')\n",
    "\n",
    "driver = webdriver.Chrome(options=options)\n",
    "total_links = len(df_links)\n",
    "for i, row in tqdm(enumerate(df_links.iterrows()), total=total_links, desc=\"Scraping\"):\n",
    "    print(f\"Scraping link {i+1}/{total_links}\")\n",
    "    url = row[1]['link']\n",
    "    region = row[1]['REGION']   # Extracting REGION value\n",
    "    data = fetch_data_from_ad(driver, url)\n",
    "    data['REGION'] = region     # Adding REGION to the data dictionary\n",
    "    df_detailed = df_detailed.append(data, ignore_index=True)\n",
    "    df_detailed = df_detailed[['TITLE', 'LINK', 'DATE_SCRAPE', 'CITY', 'CEP', 'NEIGHBORHOOD', 'CONDO', 'TAX', 'AREA', 'ROOMS_NO', 'BATH_NO', 'PARKING_SPOTS', 'APARTMENT_DETAILS', 'PRICE', 'REGION']]\n",
    "    df_detailed.to_csv('dados_detalhados_olx.csv', index=False)\n",
    "    time.sleep(3)\n",
    "    print(df_detailed.head())\n",
    "\n",
    "driver.quit()\n"
   ]
  },
  {
   "cell_type": "markdown",
   "id": "b8676e2a",
   "metadata": {},
   "source": [
    "# Experimentação"
   ]
  },
  {
   "cell_type": "markdown",
   "id": "f0937e41",
   "metadata": {},
   "source": [
    "Vamos dividir os dados em 4 subsets diferentes para podermos ganhar tempo, depois concatenamos todos"
   ]
  },
  {
   "cell_type": "code",
   "execution_count": 16,
   "id": "fb25fff7",
   "metadata": {},
   "outputs": [
    {
     "name": "stdout",
     "output_type": "stream",
     "text": [
      "Splitting completed!\n"
     ]
    }
   ],
   "source": [
    "# Read the CSV file\n",
    "df_links = pd.read_csv('links_unificados.csv')\n",
    "\n",
    "# Calculate the number of rows in each segment\n",
    "rows_in_df = df_links.shape[0]\n",
    "rows_per_segment = rows_in_df // 4\n",
    "\n",
    "# Split and save the dataframe to 4 separate CSV files\n",
    "for i in range(4):\n",
    "    start_idx = i * rows_per_segment\n",
    "    if i == 3:  # For the last segment, take all remaining rows\n",
    "        end_idx = rows_in_df\n",
    "    else:\n",
    "        end_idx = start_idx + rows_per_segment\n",
    "\n",
    "    segment = df_links.iloc[start_idx:end_idx]\n",
    "    segment.to_csv(f'links_unificados_{i+1}.csv', index=False)\n",
    "\n",
    "print(\"Splitting completed!\")"
   ]
  },
  {
   "cell_type": "code",
   "execution_count": null,
   "id": "6a08aabe",
   "metadata": {},
   "outputs": [],
   "source": []
  }
 ],
 "metadata": {
  "kernelspec": {
   "display_name": "Python 3 (ipykernel)",
   "language": "python",
   "name": "python3"
  },
  "language_info": {
   "codemirror_mode": {
    "name": "ipython",
    "version": 3
   },
   "file_extension": ".py",
   "mimetype": "text/x-python",
   "name": "python",
   "nbconvert_exporter": "python",
   "pygments_lexer": "ipython3",
   "version": "3.9.13"
  }
 },
 "nbformat": 4,
 "nbformat_minor": 5
}
