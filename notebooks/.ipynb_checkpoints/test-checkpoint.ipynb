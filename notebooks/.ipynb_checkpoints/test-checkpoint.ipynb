{
 "cells": [
  {
   "cell_type": "code",
   "execution_count": 1,
   "metadata": {},
   "outputs": [],
   "source": [
    "import pandas as pd"
   ]
  },
  {
   "cell_type": "code",
   "execution_count": 2,
   "metadata": {},
   "outputs": [],
   "source": [
    "dados_links = pd.read_csv(\"C:\\\\Users\\\\vitor\\\\OneDrive\\\\Área de Trabalho\\\\projetos\\\\projeto_olx\\\\links_olx.csv\")\n"
   ]
  },
  {
   "cell_type": "code",
   "execution_count": 3,
   "metadata": {},
   "outputs": [
    {
     "data": {
      "text/plain": [
       "42"
      ]
     },
     "execution_count": 3,
     "metadata": {},
     "output_type": "execute_result"
    }
   ],
   "source": [
    "len(dados_links)"
   ]
  },
  {
   "cell_type": "code",
   "execution_count": 4,
   "metadata": {},
   "outputs": [
    {
     "data": {
      "text/html": [
       "<div>\n",
       "<style scoped>\n",
       "    .dataframe tbody tr th:only-of-type {\n",
       "        vertical-align: middle;\n",
       "    }\n",
       "\n",
       "    .dataframe tbody tr th {\n",
       "        vertical-align: top;\n",
       "    }\n",
       "\n",
       "    .dataframe thead th {\n",
       "        text-align: right;\n",
       "    }\n",
       "</style>\n",
       "<table border=\"1\" class=\"dataframe\">\n",
       "  <thead>\n",
       "    <tr style=\"text-align: right;\">\n",
       "      <th></th>\n",
       "      <th>titulo</th>\n",
       "      <th>link</th>\n",
       "      <th>date</th>\n",
       "      <th>REGION</th>\n",
       "    </tr>\n",
       "  </thead>\n",
       "  <tbody>\n",
       "    <tr>\n",
       "      <th>4</th>\n",
       "      <td>Apartamento à venda, 2 quartos, 1 suíte, 1 vag...</td>\n",
       "      <td>https://mg.olx.com.br/belo-horizonte-e-regiao/...</td>\n",
       "      <td>2023-08-15 13:31:29.542813</td>\n",
       "      <td>barreiro</td>\n",
       "    </tr>\n",
       "    <tr>\n",
       "      <th>25</th>\n",
       "      <td>Apartamento com 2 dormitórios à venda em Belo ...</td>\n",
       "      <td>https://mg.olx.com.br/belo-horizonte-e-regiao/...</td>\n",
       "      <td>2023-08-15 13:32:05.517769</td>\n",
       "      <td>pampulha</td>\n",
       "    </tr>\n",
       "    <tr>\n",
       "      <th>19</th>\n",
       "      <td>Apartamento com 4 dormitórios à venda em Belo ...</td>\n",
       "      <td>https://mg.olx.com.br/belo-horizonte-e-regiao/...</td>\n",
       "      <td>2023-08-15 13:32:05.517769</td>\n",
       "      <td>pampulha</td>\n",
       "    </tr>\n",
       "    <tr>\n",
       "      <th>33</th>\n",
       "      <td>Apartamento Garden com 2 dormitórios à venda, ...</td>\n",
       "      <td>https://mg.olx.com.br/belo-horizonte-e-regiao/...</td>\n",
       "      <td>2023-08-15 13:32:30.474516</td>\n",
       "      <td>pampulha</td>\n",
       "    </tr>\n",
       "    <tr>\n",
       "      <th>2</th>\n",
       "      <td>Área privativa à venda, 2 quartos, 1 suíte, 2 ...</td>\n",
       "      <td>https://mg.olx.com.br/belo-horizonte-e-regiao/...</td>\n",
       "      <td>2023-08-15 13:31:29.542813</td>\n",
       "      <td>barreiro</td>\n",
       "    </tr>\n",
       "    <tr>\n",
       "      <th>17</th>\n",
       "      <td>Apartamento com 2 dormitórios à venda em Belo ...</td>\n",
       "      <td>https://mg.olx.com.br/belo-horizonte-e-regiao/...</td>\n",
       "      <td>2023-08-15 13:32:05.517769</td>\n",
       "      <td>pampulha</td>\n",
       "    </tr>\n",
       "    <tr>\n",
       "      <th>31</th>\n",
       "      <td>Apartamento Garden com 2 dormitórios à venda, ...</td>\n",
       "      <td>https://mg.olx.com.br/belo-horizonte-e-regiao/...</td>\n",
       "      <td>2023-08-15 13:32:30.474516</td>\n",
       "      <td>pampulha</td>\n",
       "    </tr>\n",
       "    <tr>\n",
       "      <th>39</th>\n",
       "      <td>Apartamento novo à venda no São João Batista</td>\n",
       "      <td>https://mg.olx.com.br/belo-horizonte-e-regiao/...</td>\n",
       "      <td>2023-08-15 13:33:06.690438</td>\n",
       "      <td>venda-nova</td>\n",
       "    </tr>\n",
       "    <tr>\n",
       "      <th>3</th>\n",
       "      <td>Área privativa à venda, 3 quartos, 1 suíte, 2 ...</td>\n",
       "      <td>https://mg.olx.com.br/belo-horizonte-e-regiao/...</td>\n",
       "      <td>2023-08-15 13:31:29.542813</td>\n",
       "      <td>barreiro</td>\n",
       "    </tr>\n",
       "    <tr>\n",
       "      <th>6</th>\n",
       "      <td>Apartamento à venda ou troca por casa.</td>\n",
       "      <td>https://mg.olx.com.br/belo-horizonte-e-regiao/...</td>\n",
       "      <td>2023-08-15 13:31:29.543776</td>\n",
       "      <td>barreiro</td>\n",
       "    </tr>\n",
       "  </tbody>\n",
       "</table>\n",
       "</div>"
      ],
      "text/plain": [
       "                                               titulo  \\\n",
       "4   Apartamento à venda, 2 quartos, 1 suíte, 1 vag...   \n",
       "25  Apartamento com 2 dormitórios à venda em Belo ...   \n",
       "19  Apartamento com 4 dormitórios à venda em Belo ...   \n",
       "33  Apartamento Garden com 2 dormitórios à venda, ...   \n",
       "2   Área privativa à venda, 2 quartos, 1 suíte, 2 ...   \n",
       "17  Apartamento com 2 dormitórios à venda em Belo ...   \n",
       "31  Apartamento Garden com 2 dormitórios à venda, ...   \n",
       "39       Apartamento novo à venda no São João Batista   \n",
       "3   Área privativa à venda, 3 quartos, 1 suíte, 2 ...   \n",
       "6              Apartamento à venda ou troca por casa.   \n",
       "\n",
       "                                                 link  \\\n",
       "4   https://mg.olx.com.br/belo-horizonte-e-regiao/...   \n",
       "25  https://mg.olx.com.br/belo-horizonte-e-regiao/...   \n",
       "19  https://mg.olx.com.br/belo-horizonte-e-regiao/...   \n",
       "33  https://mg.olx.com.br/belo-horizonte-e-regiao/...   \n",
       "2   https://mg.olx.com.br/belo-horizonte-e-regiao/...   \n",
       "17  https://mg.olx.com.br/belo-horizonte-e-regiao/...   \n",
       "31  https://mg.olx.com.br/belo-horizonte-e-regiao/...   \n",
       "39  https://mg.olx.com.br/belo-horizonte-e-regiao/...   \n",
       "3   https://mg.olx.com.br/belo-horizonte-e-regiao/...   \n",
       "6   https://mg.olx.com.br/belo-horizonte-e-regiao/...   \n",
       "\n",
       "                          date      REGION  \n",
       "4   2023-08-15 13:31:29.542813    barreiro  \n",
       "25  2023-08-15 13:32:05.517769    pampulha  \n",
       "19  2023-08-15 13:32:05.517769    pampulha  \n",
       "33  2023-08-15 13:32:30.474516    pampulha  \n",
       "2   2023-08-15 13:31:29.542813    barreiro  \n",
       "17  2023-08-15 13:32:05.517769    pampulha  \n",
       "31  2023-08-15 13:32:30.474516    pampulha  \n",
       "39  2023-08-15 13:33:06.690438  venda-nova  \n",
       "3   2023-08-15 13:31:29.542813    barreiro  \n",
       "6   2023-08-15 13:31:29.543776    barreiro  "
      ]
     },
     "execution_count": 4,
     "metadata": {},
     "output_type": "execute_result"
    }
   ],
   "source": [
    "dados_links.sample(10)"
   ]
  },
  {
   "cell_type": "code",
   "execution_count": 5,
   "metadata": {},
   "outputs": [
    {
     "data": {
      "text/plain": [
       "array(['barreiro', 'pampulha', 'venda-nova'], dtype=object)"
      ]
     },
     "execution_count": 5,
     "metadata": {},
     "output_type": "execute_result"
    }
   ],
   "source": [
    "unique_regions = dados_links['REGION'].unique()\n",
    "unique_regions"
   ]
  },
  {
   "cell_type": "code",
   "execution_count": 8,
   "metadata": {},
   "outputs": [
    {
     "data": {
      "text/plain": [
       "'https://mg.olx.com.br/belo-horizonte-e-regiao/imoveis/apartamento-a-venda-olaria-2-quartos-belo-horizonte-1222387194'"
      ]
     },
     "execution_count": 8,
     "metadata": {},
     "output_type": "execute_result"
    }
   ],
   "source": [
    "dados_links.link.iloc[0]"
   ]
  },
  {
   "cell_type": "code",
   "execution_count": null,
   "metadata": {},
   "outputs": [],
   "source": []
  }
 ],
 "metadata": {
  "kernelspec": {
   "display_name": "Python 3 (ipykernel)",
   "language": "python",
   "name": "python3"
  },
  "language_info": {
   "codemirror_mode": {
    "name": "ipython",
    "version": 3
   },
   "file_extension": ".py",
   "mimetype": "text/x-python",
   "name": "python",
   "nbconvert_exporter": "python",
   "pygments_lexer": "ipython3",
   "version": "3.10.10"
  }
 },
 "nbformat": 4,
 "nbformat_minor": 2
}
