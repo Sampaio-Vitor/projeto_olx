{
 "cells": [
  {
   "cell_type": "code",
   "execution_count": 17,
   "metadata": {},
   "outputs": [],
   "source": [
    "import pandas as pd"
   ]
  },
  {
   "cell_type": "code",
   "execution_count": 18,
   "metadata": {},
   "outputs": [],
   "source": [
    "dados_links = pd.read_csv(\"C:\\\\Users\\\\vitor\\\\OneDrive\\\\Área de Trabalho\\\\projetos\\\\projeto_olx\\\\links_olx.csv\")\n"
   ]
  },
  {
   "cell_type": "code",
   "execution_count": 19,
   "metadata": {},
   "outputs": [
    {
     "data": {
      "text/plain": [
       "346"
      ]
     },
     "execution_count": 19,
     "metadata": {},
     "output_type": "execute_result"
    }
   ],
   "source": [
    "len(dados_links)"
   ]
  },
  {
   "cell_type": "code",
   "execution_count": 20,
   "metadata": {},
   "outputs": [
    {
     "data": {
      "text/html": [
       "<div>\n",
       "<style scoped>\n",
       "    .dataframe tbody tr th:only-of-type {\n",
       "        vertical-align: middle;\n",
       "    }\n",
       "\n",
       "    .dataframe tbody tr th {\n",
       "        vertical-align: top;\n",
       "    }\n",
       "\n",
       "    .dataframe thead th {\n",
       "        text-align: right;\n",
       "    }\n",
       "</style>\n",
       "<table border=\"1\" class=\"dataframe\">\n",
       "  <thead>\n",
       "    <tr style=\"text-align: right;\">\n",
       "      <th></th>\n",
       "      <th>titulo</th>\n",
       "      <th>link</th>\n",
       "      <th>date</th>\n",
       "    </tr>\n",
       "  </thead>\n",
       "  <tbody>\n",
       "    <tr>\n",
       "      <th>0</th>\n",
       "      <td>Apart 2  qts B Cariru Ótimo</td>\n",
       "      <td>https://mg.olx.com.br/belo-horizonte-e-regiao/...</td>\n",
       "      <td>2023-08-15 10:25:55.304772</td>\n",
       "    </tr>\n",
       "    <tr>\n",
       "      <th>1</th>\n",
       "      <td>Venda Apartamento 2 quartos Santa Efigênia Bel...</td>\n",
       "      <td>https://mg.olx.com.br/belo-horizonte-e-regiao/...</td>\n",
       "      <td>2023-08-15 10:25:55.304772</td>\n",
       "    </tr>\n",
       "    <tr>\n",
       "      <th>2</th>\n",
       "      <td>Venda Apartamento 2 quartos Santa Efigênia Bel...</td>\n",
       "      <td>https://mg.olx.com.br/belo-horizonte-e-regiao/...</td>\n",
       "      <td>2023-08-15 10:25:55.304772</td>\n",
       "    </tr>\n",
       "    <tr>\n",
       "      <th>3</th>\n",
       "      <td>Apartamento Mobiliado à venda, 3 quartos, 1 su...</td>\n",
       "      <td>https://mg.olx.com.br/belo-horizonte-e-regiao/...</td>\n",
       "      <td>2023-08-15 10:25:55.304772</td>\n",
       "    </tr>\n",
       "    <tr>\n",
       "      <th>4</th>\n",
       "      <td>Anuar Donato Apartamento 4 quartos à venda Fun...</td>\n",
       "      <td>https://mg.olx.com.br/belo-horizonte-e-regiao/...</td>\n",
       "      <td>2023-08-15 10:25:55.304772</td>\n",
       "    </tr>\n",
       "  </tbody>\n",
       "</table>\n",
       "</div>"
      ],
      "text/plain": [
       "                                              titulo  \\\n",
       "0                        Apart 2  qts B Cariru Ótimo   \n",
       "1  Venda Apartamento 2 quartos Santa Efigênia Bel...   \n",
       "2  Venda Apartamento 2 quartos Santa Efigênia Bel...   \n",
       "3  Apartamento Mobiliado à venda, 3 quartos, 1 su...   \n",
       "4  Anuar Donato Apartamento 4 quartos à venda Fun...   \n",
       "\n",
       "                                                link  \\\n",
       "0  https://mg.olx.com.br/belo-horizonte-e-regiao/...   \n",
       "1  https://mg.olx.com.br/belo-horizonte-e-regiao/...   \n",
       "2  https://mg.olx.com.br/belo-horizonte-e-regiao/...   \n",
       "3  https://mg.olx.com.br/belo-horizonte-e-regiao/...   \n",
       "4  https://mg.olx.com.br/belo-horizonte-e-regiao/...   \n",
       "\n",
       "                         date  \n",
       "0  2023-08-15 10:25:55.304772  \n",
       "1  2023-08-15 10:25:55.304772  \n",
       "2  2023-08-15 10:25:55.304772  \n",
       "3  2023-08-15 10:25:55.304772  \n",
       "4  2023-08-15 10:25:55.304772  "
      ]
     },
     "execution_count": 20,
     "metadata": {},
     "output_type": "execute_result"
    }
   ],
   "source": [
    "dados_links.head()"
   ]
  },
  {
   "cell_type": "code",
   "execution_count": 23,
   "metadata": {},
   "outputs": [
    {
     "data": {
      "text/plain": [
       "'https://mg.olx.com.br/belo-horizonte-e-regiao/imoveis/apartamento-buritis-1184531788'"
      ]
     },
     "execution_count": 23,
     "metadata": {},
     "output_type": "execute_result"
    }
   ],
   "source": [
    "dados_links.link[1]"
   ]
  },
  {
   "cell_type": "code",
   "execution_count": null,
   "metadata": {},
   "outputs": [],
   "source": []
  }
 ],
 "metadata": {
  "kernelspec": {
   "display_name": "base",
   "language": "python",
   "name": "python3"
  },
  "language_info": {
   "codemirror_mode": {
    "name": "ipython",
    "version": 3
   },
   "file_extension": ".py",
   "mimetype": "text/x-python",
   "name": "python",
   "nbconvert_exporter": "python",
   "pygments_lexer": "ipython3",
   "version": "3.9.13"
  },
  "orig_nbformat": 4
 },
 "nbformat": 4,
 "nbformat_minor": 2
}
